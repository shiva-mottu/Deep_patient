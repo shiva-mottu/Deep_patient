{
 "cells": [
  {
   "cell_type": "markdown",
   "metadata": {},
   "source": [
    "# Fashion MNIST Explore Classifiers"
   ]
  },
  {
   "cell_type": "markdown",
   "metadata": {},
   "source": [
    "#### IMPORT'S"
   ]
  },
  {
   "cell_type": "code",
   "execution_count": 1,
   "metadata": {},
   "outputs": [
    {
     "name": "stderr",
     "output_type": "stream",
     "text": [
      "Using TensorFlow backend.\n"
     ]
    }
   ],
   "source": [
    "import numpy as np\n",
    "import keras\n",
    "from keras.layers import Dense, Input, Conv2D, MaxPooling2D, UpSampling2D, Flatten,Dropout\n",
    "from keras.models import Sequential, Model\n",
    "from matplotlib import pyplot as plt\n",
    "from keras.callbacks import ModelCheckpoint, EarlyStopping\n",
    "from keras.constraints import maxnorm\n",
    "from keras.datasets import mnist\n",
    "from sklearn.model_selection import GridSearchCV\n",
    "from keras.wrappers.scikit_learn import KerasClassifier\n",
    "\n",
    "# fix random seed for reproducibility\n",
    "seed = 7\n",
    "np.random.seed(seed)"
   ]
  },
  {
   "cell_type": "markdown",
   "metadata": {},
   "source": [
    "## 1. Download Fashion MNIST dataset"
   ]
  },
  {
   "cell_type": "code",
   "execution_count": 2,
   "metadata": {},
   "outputs": [],
   "source": [
    "from keras.datasets import fashion_mnist\n",
    "\n",
    "# Load the fashion-mnist pre-shuffled train data and test data\n",
    "(x_train, y_train), (x_test, y_test) = fashion_mnist.load_data()\n",
    "\n",
    "input_size = x_train.shape[1]*x_train.shape[2]\n",
    "input_shape = (x_train.shape[1],x_train.shape[2], )\n",
    "input_img= Input(shape=(input_size,))\n",
    "\n",
    "classes = np.unique(y_train)\n",
    "num_classes = len(classes) # ten unique\n",
    "\n",
    "# convert y to categorical variable (vector)\n",
    "y_train = keras.utils.to_categorical(y_train, num_classes)\n",
    "y_test = keras.utils.to_categorical(y_test, num_classes)\n",
    "\n",
    "# Transform from matrix to vector\n",
    "x_train = x_train.astype('float32')\n",
    "# Normalize inputs from 0-255 to 0.0-1.0\n",
    "x_train /= 255\n",
    "\n",
    "# Transform from matrix to vector\n",
    "x_test = x_test.astype('float32')\n",
    "# Normalize inputs from 0-255 to 0.0-1.0\n",
    "x_test /= 255"
   ]
  },
  {
   "cell_type": "markdown",
   "metadata": {},
   "source": [
    "#### 1.1 Displaying the shape of training and test dataset and number of classes "
   ]
  },
  {
   "cell_type": "code",
   "execution_count": 3,
   "metadata": {},
   "outputs": [
    {
     "name": "stdout",
     "output_type": "stream",
     "text": [
      "Training Data :  (60000, 28, 28)\n",
      "Testing Data :  (10000, 28, 28)\n",
      "Number of Classes :  10\n",
      "train data (60000, 10)\n"
     ]
    }
   ],
   "source": [
    "print(\"Training Data : \",x_train.shape)\n",
    "print(\"Testing Data : \",x_test.shape)\n",
    "print(\"Number of Classes : \",num_classes)\n",
    "print(\"train data\",y_train.shape)"
   ]
  },
  {
   "cell_type": "markdown",
   "metadata": {},
   "source": [
    "#### ** EarlyStopping and ModelCheckpoint **"
   ]
  },
  {
   "cell_type": "code",
   "execution_count": 4,
   "metadata": {},
   "outputs": [],
   "source": [
    "es = EarlyStopping(monitor='val_loss', mode='min', verbose=1,patience=10)\n",
    "checkpoint= ModelCheckpoint('best_model.h5', monitor='val_loss', mode='min', save_best_only=True)"
   ]
  },
  {
   "cell_type": "markdown",
   "metadata": {},
   "source": [
    "#### HYPER PARAMETERS"
   ]
  },
  {
   "cell_type": "code",
   "execution_count": 5,
   "metadata": {},
   "outputs": [],
   "source": [
    "# define the grid search parameters\n",
    "#batch_size = [8, 16, 32, 64, 128, 256, 512, 1024]\n",
    "gridSearch_batch_Size = [16, 32, 64]\n",
    "\n",
    "#epochs = [10, 50, 100,500,1000]\n",
    "gridSearch_epochs = [10,20,30]\n",
    "\n",
    "#optimizer = ['SGD', 'RMSprop', 'Adagrad', 'Adadelta', 'Adam', 'Adamax', 'Nadam']\n",
    "gridSearch_optimizer = [ 'Adadelta', 'Adam']\n",
    "\n",
    "#learn_rate = [0.001, 0.01, 0.1, 0.2, 0.3]\n",
    "gridSearch_learn_rate = [0.001,0.01, 0.1, 0.2,0.3]\n",
    "\n",
    "#activation = ['softmax', 'softplus', 'softsign', 'relu', 'tanh', 'sigmoid', 'hard_sigmoid', 'linear']\n",
    "gridSearch_activation = ['softmax', 'relu', 'sigmoid']\n",
    "\n",
    "#dropout_rate = [0.0, 0.1, 0.2, 0.3, 0.4, 0.5, 0.6, 0.7, 0.8, 0.9]\n",
    "gridSearch_dropout_rate = [0.1, 0.4,0.9]\n",
    "\n",
    "#neurons = [8, 16, 32, 64, 128, 256, 512, 1024]\n",
    "gridSearch_neurons = [32, 64, 128]\n",
    "\n",
    "param_grid = dict(batch_size=gridSearch_batch_Size\n",
    "                  ,neurons=gridSearch_neurons\n",
    "                  ,dropout_rate=gridSearch_dropout_rate\n",
    "                  ,epochs=gridSearch_epochs\n",
    "                  ,optimizer=gridSearch_optimizer \n",
    "                  ,learn_rate=gridSearch_learn_rate \n",
    "                  ,activation=gridSearch_activation)\n",
    "\n",
    "init_mode='uniform'\n",
    "momentum=0"
   ]
  },
  {
   "cell_type": "markdown",
   "metadata": {},
   "source": [
    "## 2. Fashion MNIST classifier"
   ]
  },
  {
   "cell_type": "markdown",
   "metadata": {},
   "source": [
    "### 2.1.1 Definition of Image Classifier Model"
   ]
  },
  {
   "cell_type": "code",
   "execution_count": 6,
   "metadata": {},
   "outputs": [],
   "source": [
    "def create_model(neurons=784,dropout_rate=0.5,\n",
    "                 init_mode='uniform',optimizer='adam', learn_rate=0.01, momentum=0,\n",
    "                 activation='relu'): \n",
    "    # create model\n",
    "    inputs = Input(shape=input_shape)\n",
    "    x = Flatten()(inputs)\n",
    "    x = Dense(neurons,kernel_initializer=init_mode,activation=activation)(x)\n",
    "    x = Dense(128,kernel_initializer=init_mode,activation=activation)(x)\n",
    "    x = Dense(64,kernel_initializer=init_mode,activation=activation)(x)\n",
    "    x = Dropout(dropout_rate)(x)\n",
    "    outputs = Dense(num_classes,kernel_initializer=init_mode,activation='softmax')(x)\n",
    "    \n",
    "    model = Model(inputs=inputs, outputs=outputs)\n",
    "    \n",
    "    # Configures the model for training.\n",
    "    # optimizer = optimizer(lr=learn_rate, momentum=momentum)\n",
    "    # Optimizer     -- Adam\n",
    "    # Loss function -- Binary cross entropy\n",
    "    # Metrics       -- Accuracy\n",
    "    model.compile(loss='binary_crossentropy', optimizer=optimizer, metrics=['accuracy'])\n",
    "    return model"
   ]
  },
  {
   "cell_type": "markdown",
   "metadata": {},
   "source": [
    "### 2.2 Building  a KerasClassifier for GridSearchCV"
   ]
  },
  {
   "cell_type": "code",
   "execution_count": 8,
   "metadata": {},
   "outputs": [],
   "source": [
    "model = KerasClassifier(build_fn=create_model, verbose=2)"
   ]
  },
  {
   "cell_type": "markdown",
   "metadata": {},
   "source": [
    "#### 2.2.1 Apply GridSearchCV on KerasClassifier for best results"
   ]
  },
  {
   "cell_type": "code",
   "execution_count": 9,
   "metadata": {},
   "outputs": [],
   "source": [
    "grid = GridSearchCV(estimator=model, param_grid=param_grid, n_jobs=-1, cv=3)"
   ]
  },
  {
   "cell_type": "markdown",
   "metadata": {},
   "source": [
    "#### 2.2.2 Fitting the gridsearchcv "
   ]
  },
  {
   "cell_type": "code",
   "execution_count": 10,
   "metadata": {},
   "outputs": [
    {
     "name": "stderr",
     "output_type": "stream",
     "text": [
      "C:\\Users\\krant\\Anaconda3\\lib\\site-packages\\joblib\\externals\\loky\\process_executor.py:706: UserWarning: A worker stopped while some jobs were given to the executor. This can be caused by a too short worker timeout or by a memory leak.\n",
      "  \"timeout or by a memory leak.\", UserWarning\n"
     ]
    },
    {
     "name": "stdout",
     "output_type": "stream",
     "text": [
      "WARNING:tensorflow:From C:\\Users\\krant\\Anaconda3\\lib\\site-packages\\tensorflow\\python\\ops\\math_grad.py:1250: add_dispatch_support.<locals>.wrapper (from tensorflow.python.ops.array_ops) is deprecated and will be removed in a future version.\n",
      "Instructions for updating:\n",
      "Use tf.where in 2.0, which has the same broadcast rule as np.where\n",
      "WARNING:tensorflow:From C:\\Users\\krant\\Anaconda3\\lib\\site-packages\\keras\\backend\\tensorflow_backend.py:422: The name tf.global_variables is deprecated. Please use tf.compat.v1.global_variables instead.\n",
      "\n",
      "Epoch 1/30\n",
      " - 1s - loss: 0.3055 - accuracy: 0.9001\n",
      "Epoch 2/30\n",
      " - 0s - loss: 0.2116 - accuracy: 0.9160\n",
      "Epoch 3/30\n",
      " - 0s - loss: 0.1653 - accuracy: 0.9322\n",
      "Epoch 4/30\n",
      " - 0s - loss: 0.1437 - accuracy: 0.9398\n",
      "Epoch 5/30\n",
      " - 0s - loss: 0.1331 - accuracy: 0.9424\n",
      "Epoch 6/30\n",
      " - 0s - loss: 0.1270 - accuracy: 0.9458\n",
      "Epoch 7/30\n",
      " - 0s - loss: 0.1172 - accuracy: 0.9493\n",
      "Epoch 8/30\n",
      " - 0s - loss: 0.1104 - accuracy: 0.9566\n",
      "Epoch 9/30\n",
      " - 0s - loss: 0.1026 - accuracy: 0.9588\n",
      "Epoch 10/30\n",
      " - 0s - loss: 0.0973 - accuracy: 0.9619\n",
      "Epoch 11/30\n",
      " - 0s - loss: 0.0933 - accuracy: 0.9623\n",
      "Epoch 12/30\n",
      " - 0s - loss: 0.0851 - accuracy: 0.9653\n",
      "Epoch 13/30\n",
      " - 0s - loss: 0.0785 - accuracy: 0.9684\n",
      "Epoch 14/30\n",
      " - 0s - loss: 0.0794 - accuracy: 0.9684\n",
      "Epoch 15/30\n",
      " - 0s - loss: 0.0733 - accuracy: 0.9705\n",
      "Epoch 16/30\n",
      " - 0s - loss: 0.0777 - accuracy: 0.9692\n",
      "Epoch 17/30\n",
      " - 0s - loss: 0.0677 - accuracy: 0.9725\n",
      "Epoch 18/30\n",
      " - 0s - loss: 0.0611 - accuracy: 0.9756\n",
      "Epoch 19/30\n",
      " - 0s - loss: 0.0631 - accuracy: 0.9750\n",
      "Epoch 20/30\n",
      " - 0s - loss: 0.0567 - accuracy: 0.9774\n",
      "Epoch 21/30\n",
      " - 0s - loss: 0.0580 - accuracy: 0.9771\n",
      "Epoch 22/30\n",
      " - 0s - loss: 0.0489 - accuracy: 0.9816\n",
      "Epoch 23/30\n",
      " - 0s - loss: 0.0503 - accuracy: 0.9796\n",
      "Epoch 24/30\n",
      " - 0s - loss: 0.0453 - accuracy: 0.9814\n",
      "Epoch 25/30\n",
      " - 0s - loss: 0.0493 - accuracy: 0.9821\n",
      "Epoch 26/30\n",
      " - 0s - loss: 0.0491 - accuracy: 0.9808\n",
      "Epoch 27/30\n",
      " - 0s - loss: 0.0436 - accuracy: 0.9843\n",
      "Epoch 28/30\n",
      " - 0s - loss: 0.0408 - accuracy: 0.9842\n",
      "Epoch 29/30\n",
      " - 0s - loss: 0.0370 - accuracy: 0.9858\n",
      "Epoch 30/30\n",
      " - 0s - loss: 0.0444 - accuracy: 0.9822\n"
     ]
    }
   ],
   "source": [
    "# We use only a small part of the dataset\n",
    "grid_result = grid.fit(x_train[:1000], y_train[:1000], verbose=2)"
   ]
  },
  {
   "cell_type": "code",
   "execution_count": 23,
   "metadata": {},
   "outputs": [
    {
     "name": "stdout",
     "output_type": "stream",
     "text": [
      "Best: 0.962800 using {'activation': 'relu', 'batch_size': 16, 'dropout_rate': 0.4, 'epochs': 30, 'learn_rate': 0.1, 'neurons': 128, 'optimizer': 'Adam'}\n"
     ]
    }
   ],
   "source": [
    "print(\"Best: %f using %s\" % (grid_result.best_score_, grid_result.best_params_))"
   ]
  },
  {
   "cell_type": "markdown",
   "metadata": {},
   "source": [
    "#### 2.2.3 Summarize Results"
   ]
  },
  {
   "cell_type": "code",
   "execution_count": 17,
   "metadata": {},
   "outputs": [
    {
     "name": "stdout",
     "output_type": "stream",
     "text": [
      "mean\t\tparams\n",
      "--------------------------------\n",
      "0.900000 with: {'activation': 'relu', 'batch_size': 16, 'dropout_rate': 0.0, 'epochs': 20, 'learn_rate': 0.001, 'neurons': 32, 'optimizer': 'Adam'}\n",
      "0.900000 with: {'activation': 'relu', 'batch_size': 16, 'dropout_rate': 0.0, 'epochs': 20, 'learn_rate': 0.001, 'neurons': 128, 'optimizer': 'Adam'}\n",
      "0.900000 with: {'activation': 'relu', 'batch_size': 16, 'dropout_rate': 0.0, 'epochs': 20, 'learn_rate': 0.3, 'neurons': 32, 'optimizer': 'Adam'}\n",
      "0.900000 with: {'activation': 'relu', 'batch_size': 16, 'dropout_rate': 0.0, 'epochs': 20, 'learn_rate': 0.3, 'neurons': 128, 'optimizer': 'Adam'}\n",
      "0.900000 with: {'activation': 'relu', 'batch_size': 16, 'dropout_rate': 0.0, 'epochs': 30, 'learn_rate': 0.001, 'neurons': 32, 'optimizer': 'Adam'}\n",
      "0.900000 with: {'activation': 'relu', 'batch_size': 16, 'dropout_rate': 0.0, 'epochs': 30, 'learn_rate': 0.001, 'neurons': 128, 'optimizer': 'Adam'}\n",
      "0.900000 with: {'activation': 'relu', 'batch_size': 16, 'dropout_rate': 0.0, 'epochs': 30, 'learn_rate': 0.3, 'neurons': 32, 'optimizer': 'Adam'}\n",
      "0.900000 with: {'activation': 'relu', 'batch_size': 16, 'dropout_rate': 0.0, 'epochs': 30, 'learn_rate': 0.3, 'neurons': 128, 'optimizer': 'Adam'}\n",
      "0.900000 with: {'activation': 'relu', 'batch_size': 16, 'dropout_rate': 0.3, 'epochs': 20, 'learn_rate': 0.001, 'neurons': 32, 'optimizer': 'Adam'}\n",
      "0.900000 with: {'activation': 'relu', 'batch_size': 16, 'dropout_rate': 0.3, 'epochs': 20, 'learn_rate': 0.001, 'neurons': 128, 'optimizer': 'Adam'}\n",
      "0.900000 with: {'activation': 'relu', 'batch_size': 16, 'dropout_rate': 0.3, 'epochs': 20, 'learn_rate': 0.3, 'neurons': 32, 'optimizer': 'Adam'}\n",
      "0.900000 with: {'activation': 'relu', 'batch_size': 16, 'dropout_rate': 0.3, 'epochs': 20, 'learn_rate': 0.3, 'neurons': 128, 'optimizer': 'Adam'}\n",
      "0.900000 with: {'activation': 'relu', 'batch_size': 16, 'dropout_rate': 0.3, 'epochs': 30, 'learn_rate': 0.001, 'neurons': 32, 'optimizer': 'Adam'}\n",
      "0.900000 with: {'activation': 'relu', 'batch_size': 16, 'dropout_rate': 0.3, 'epochs': 30, 'learn_rate': 0.001, 'neurons': 128, 'optimizer': 'Adam'}\n",
      "0.900000 with: {'activation': 'relu', 'batch_size': 16, 'dropout_rate': 0.3, 'epochs': 30, 'learn_rate': 0.3, 'neurons': 32, 'optimizer': 'Adam'}\n",
      "0.900000 with: {'activation': 'relu', 'batch_size': 16, 'dropout_rate': 0.3, 'epochs': 30, 'learn_rate': 0.3, 'neurons': 128, 'optimizer': 'Adam'}\n",
      "0.900000 with: {'activation': 'relu', 'batch_size': 32, 'dropout_rate': 0.0, 'epochs': 20, 'learn_rate': 0.001, 'neurons': 32, 'optimizer': 'Adam'}\n",
      "0.900000 with: {'activation': 'relu', 'batch_size': 32, 'dropout_rate': 0.0, 'epochs': 20, 'learn_rate': 0.001, 'neurons': 128, 'optimizer': 'Adam'}\n",
      "0.900000 with: {'activation': 'relu', 'batch_size': 32, 'dropout_rate': 0.0, 'epochs': 20, 'learn_rate': 0.3, 'neurons': 32, 'optimizer': 'Adam'}\n",
      "0.900000 with: {'activation': 'relu', 'batch_size': 32, 'dropout_rate': 0.0, 'epochs': 20, 'learn_rate': 0.3, 'neurons': 128, 'optimizer': 'Adam'}\n",
      "0.900000 with: {'activation': 'relu', 'batch_size': 32, 'dropout_rate': 0.0, 'epochs': 30, 'learn_rate': 0.001, 'neurons': 32, 'optimizer': 'Adam'}\n",
      "0.900000 with: {'activation': 'relu', 'batch_size': 32, 'dropout_rate': 0.0, 'epochs': 30, 'learn_rate': 0.001, 'neurons': 128, 'optimizer': 'Adam'}\n",
      "0.900000 with: {'activation': 'relu', 'batch_size': 32, 'dropout_rate': 0.0, 'epochs': 30, 'learn_rate': 0.3, 'neurons': 32, 'optimizer': 'Adam'}\n",
      "0.900000 with: {'activation': 'relu', 'batch_size': 32, 'dropout_rate': 0.0, 'epochs': 30, 'learn_rate': 0.3, 'neurons': 128, 'optimizer': 'Adam'}\n",
      "0.900000 with: {'activation': 'relu', 'batch_size': 32, 'dropout_rate': 0.3, 'epochs': 20, 'learn_rate': 0.001, 'neurons': 32, 'optimizer': 'Adam'}\n",
      "0.900000 with: {'activation': 'relu', 'batch_size': 32, 'dropout_rate': 0.3, 'epochs': 20, 'learn_rate': 0.001, 'neurons': 128, 'optimizer': 'Adam'}\n",
      "0.900000 with: {'activation': 'relu', 'batch_size': 32, 'dropout_rate': 0.3, 'epochs': 20, 'learn_rate': 0.3, 'neurons': 32, 'optimizer': 'Adam'}\n",
      "0.900000 with: {'activation': 'relu', 'batch_size': 32, 'dropout_rate': 0.3, 'epochs': 20, 'learn_rate': 0.3, 'neurons': 128, 'optimizer': 'Adam'}\n",
      "0.900000 with: {'activation': 'relu', 'batch_size': 32, 'dropout_rate': 0.3, 'epochs': 30, 'learn_rate': 0.001, 'neurons': 32, 'optimizer': 'Adam'}\n",
      "0.900000 with: {'activation': 'relu', 'batch_size': 32, 'dropout_rate': 0.3, 'epochs': 30, 'learn_rate': 0.001, 'neurons': 128, 'optimizer': 'Adam'}\n",
      "0.900000 with: {'activation': 'relu', 'batch_size': 32, 'dropout_rate': 0.3, 'epochs': 30, 'learn_rate': 0.3, 'neurons': 32, 'optimizer': 'Adam'}\n",
      "0.900000 with: {'activation': 'relu', 'batch_size': 32, 'dropout_rate': 0.3, 'epochs': 30, 'learn_rate': 0.3, 'neurons': 128, 'optimizer': 'Adam'}\n",
      "0.900000 with: {'activation': 'softmax', 'batch_size': 16, 'dropout_rate': 0.0, 'epochs': 20, 'learn_rate': 0.001, 'neurons': 32, 'optimizer': 'Adam'}\n",
      "0.900000 with: {'activation': 'softmax', 'batch_size': 16, 'dropout_rate': 0.0, 'epochs': 20, 'learn_rate': 0.001, 'neurons': 128, 'optimizer': 'Adam'}\n",
      "0.900000 with: {'activation': 'softmax', 'batch_size': 16, 'dropout_rate': 0.0, 'epochs': 20, 'learn_rate': 0.3, 'neurons': 32, 'optimizer': 'Adam'}\n",
      "0.900000 with: {'activation': 'softmax', 'batch_size': 16, 'dropout_rate': 0.0, 'epochs': 20, 'learn_rate': 0.3, 'neurons': 128, 'optimizer': 'Adam'}\n",
      "0.900000 with: {'activation': 'softmax', 'batch_size': 16, 'dropout_rate': 0.0, 'epochs': 30, 'learn_rate': 0.001, 'neurons': 32, 'optimizer': 'Adam'}\n",
      "0.900000 with: {'activation': 'softmax', 'batch_size': 16, 'dropout_rate': 0.0, 'epochs': 30, 'learn_rate': 0.001, 'neurons': 128, 'optimizer': 'Adam'}\n",
      "0.900000 with: {'activation': 'softmax', 'batch_size': 16, 'dropout_rate': 0.0, 'epochs': 30, 'learn_rate': 0.3, 'neurons': 32, 'optimizer': 'Adam'}\n",
      "0.900000 with: {'activation': 'softmax', 'batch_size': 16, 'dropout_rate': 0.0, 'epochs': 30, 'learn_rate': 0.3, 'neurons': 128, 'optimizer': 'Adam'}\n",
      "0.900000 with: {'activation': 'softmax', 'batch_size': 16, 'dropout_rate': 0.3, 'epochs': 20, 'learn_rate': 0.001, 'neurons': 32, 'optimizer': 'Adam'}\n",
      "0.900000 with: {'activation': 'softmax', 'batch_size': 16, 'dropout_rate': 0.3, 'epochs': 20, 'learn_rate': 0.001, 'neurons': 128, 'optimizer': 'Adam'}\n",
      "0.900000 with: {'activation': 'softmax', 'batch_size': 16, 'dropout_rate': 0.3, 'epochs': 20, 'learn_rate': 0.3, 'neurons': 32, 'optimizer': 'Adam'}\n",
      "0.900000 with: {'activation': 'softmax', 'batch_size': 16, 'dropout_rate': 0.3, 'epochs': 20, 'learn_rate': 0.3, 'neurons': 128, 'optimizer': 'Adam'}\n",
      "0.900000 with: {'activation': 'softmax', 'batch_size': 16, 'dropout_rate': 0.3, 'epochs': 30, 'learn_rate': 0.001, 'neurons': 32, 'optimizer': 'Adam'}\n",
      "0.900000 with: {'activation': 'softmax', 'batch_size': 16, 'dropout_rate': 0.3, 'epochs': 30, 'learn_rate': 0.001, 'neurons': 128, 'optimizer': 'Adam'}\n",
      "0.900000 with: {'activation': 'softmax', 'batch_size': 16, 'dropout_rate': 0.3, 'epochs': 30, 'learn_rate': 0.3, 'neurons': 32, 'optimizer': 'Adam'}\n",
      "0.900000 with: {'activation': 'softmax', 'batch_size': 16, 'dropout_rate': 0.3, 'epochs': 30, 'learn_rate': 0.3, 'neurons': 128, 'optimizer': 'Adam'}\n",
      "0.900000 with: {'activation': 'softmax', 'batch_size': 32, 'dropout_rate': 0.0, 'epochs': 20, 'learn_rate': 0.001, 'neurons': 32, 'optimizer': 'Adam'}\n",
      "0.900000 with: {'activation': 'softmax', 'batch_size': 32, 'dropout_rate': 0.0, 'epochs': 20, 'learn_rate': 0.001, 'neurons': 128, 'optimizer': 'Adam'}\n",
      "0.900000 with: {'activation': 'softmax', 'batch_size': 32, 'dropout_rate': 0.0, 'epochs': 20, 'learn_rate': 0.3, 'neurons': 32, 'optimizer': 'Adam'}\n",
      "0.900000 with: {'activation': 'softmax', 'batch_size': 32, 'dropout_rate': 0.0, 'epochs': 20, 'learn_rate': 0.3, 'neurons': 128, 'optimizer': 'Adam'}\n",
      "0.900000 with: {'activation': 'softmax', 'batch_size': 32, 'dropout_rate': 0.0, 'epochs': 30, 'learn_rate': 0.001, 'neurons': 32, 'optimizer': 'Adam'}\n",
      "0.900000 with: {'activation': 'softmax', 'batch_size': 32, 'dropout_rate': 0.0, 'epochs': 30, 'learn_rate': 0.001, 'neurons': 128, 'optimizer': 'Adam'}\n",
      "0.900000 with: {'activation': 'softmax', 'batch_size': 32, 'dropout_rate': 0.0, 'epochs': 30, 'learn_rate': 0.3, 'neurons': 32, 'optimizer': 'Adam'}\n",
      "0.900000 with: {'activation': 'softmax', 'batch_size': 32, 'dropout_rate': 0.0, 'epochs': 30, 'learn_rate': 0.3, 'neurons': 128, 'optimizer': 'Adam'}\n",
      "0.900000 with: {'activation': 'softmax', 'batch_size': 32, 'dropout_rate': 0.3, 'epochs': 20, 'learn_rate': 0.001, 'neurons': 32, 'optimizer': 'Adam'}\n",
      "0.900000 with: {'activation': 'softmax', 'batch_size': 32, 'dropout_rate': 0.3, 'epochs': 20, 'learn_rate': 0.001, 'neurons': 128, 'optimizer': 'Adam'}\n",
      "0.900000 with: {'activation': 'softmax', 'batch_size': 32, 'dropout_rate': 0.3, 'epochs': 20, 'learn_rate': 0.3, 'neurons': 32, 'optimizer': 'Adam'}\n",
      "0.900000 with: {'activation': 'softmax', 'batch_size': 32, 'dropout_rate': 0.3, 'epochs': 20, 'learn_rate': 0.3, 'neurons': 128, 'optimizer': 'Adam'}\n",
      "0.900000 with: {'activation': 'softmax', 'batch_size': 32, 'dropout_rate': 0.3, 'epochs': 30, 'learn_rate': 0.001, 'neurons': 32, 'optimizer': 'Adam'}\n",
      "0.900000 with: {'activation': 'softmax', 'batch_size': 32, 'dropout_rate': 0.3, 'epochs': 30, 'learn_rate': 0.001, 'neurons': 128, 'optimizer': 'Adam'}\n",
      "0.900000 with: {'activation': 'softmax', 'batch_size': 32, 'dropout_rate': 0.3, 'epochs': 30, 'learn_rate': 0.3, 'neurons': 32, 'optimizer': 'Adam'}\n",
      "0.900000 with: {'activation': 'softmax', 'batch_size': 32, 'dropout_rate': 0.3, 'epochs': 30, 'learn_rate': 0.3, 'neurons': 128, 'optimizer': 'Adam'}\n"
     ]
    }
   ],
   "source": [
    "means = grid_result.cv_results_['mean_test_score']\n",
    "params = grid_result.cv_results_['params']\n",
    "print(\"mean\\t\\tparams\")\n",
    "print(\"--------------------------------\")\n",
    "for mean, param in zip(means, params):\n",
    "    print(\"%f with: %r\" % (mean, param))"
   ]
  },
  {
   "cell_type": "markdown",
   "metadata": {},
   "source": [
    "####  Save best result into file"
   ]
  },
  {
   "cell_type": "code",
   "execution_count": 11,
   "metadata": {},
   "outputs": [
    {
     "data": {
      "text/plain": [
       "['fashiondata_bestparams.pkl']"
      ]
     },
     "execution_count": 11,
     "metadata": {},
     "output_type": "execute_result"
    }
   ],
   "source": [
    "from sklearn.externals import joblib\n",
    "joblib.dump(grid_result, 'fashiondata_bestparams.pkl')\n",
    "#joblib.dump(grid_result, 'gridSearchCV.pkl')"
   ]
  },
  {
   "cell_type": "markdown",
   "metadata": {},
   "source": [
    "#### Load Best parameters from file"
   ]
  },
  {
   "cell_type": "code",
   "execution_count": 12,
   "metadata": {},
   "outputs": [],
   "source": [
    "grid_result = joblib.load('fashiondata_bestparams.pkl')\n",
    "\n",
    "activation = grid_result.best_params_['activation']\n",
    "batch_size = grid_result.best_params_['batch_size']\n",
    "dropout_rate = grid_result.best_params_['dropout_rate']\n",
    "epochs = grid_result.best_params_['epochs']\n",
    "learn_rate = grid_result.best_params_['learn_rate']\n",
    "neurons = grid_result.best_params_['neurons']\n",
    "optimizer = grid_result.best_params_['optimizer']"
   ]
  },
  {
   "cell_type": "markdown",
   "metadata": {},
   "source": [
    "#### 2.1.2 Creating an Image Classifier Model"
   ]
  },
  {
   "cell_type": "code",
   "execution_count": 13,
   "metadata": {},
   "outputs": [],
   "source": [
    "def create_model_(): \n",
    "    # create model\n",
    "    inputs = Input(shape=input_shape)\n",
    "    x = Flatten()(inputs)\n",
    "    x = Dense(neurons,kernel_initializer=init_mode,activation=activation)(x)\n",
    "    x = Dense(64,kernel_initializer=init_mode,activation=activation)(x)\n",
    "    x = Dropout(dropout_rate)(x)\n",
    "    outputs = Dense(num_classes,kernel_initializer=init_mode,activation='softmax')(x)\n",
    "    \n",
    "    model = Model(inputs=inputs, outputs=outputs)\n",
    "    \n",
    "    # Configures the model for training.\n",
    "    # optimizer = optimizer(lr=learn_rate, momentum=momentum)\n",
    "    # Optimizer     -- Adam\n",
    "    # Loss function -- Binary cross entropy\n",
    "    # Metrics       -- Accuracy\n",
    "    model.compile(loss='binary_crossentropy', optimizer=optimizer, metrics=['accuracy'])\n",
    "    return model"
   ]
  },
  {
   "cell_type": "code",
   "execution_count": 14,
   "metadata": {},
   "outputs": [],
   "source": [
    "# create model\n",
    "model = create_model_()"
   ]
  },
  {
   "cell_type": "markdown",
   "metadata": {},
   "source": [
    "#### 2.1.3 View the structure of the classifier model"
   ]
  },
  {
   "cell_type": "code",
   "execution_count": 15,
   "metadata": {},
   "outputs": [
    {
     "name": "stdout",
     "output_type": "stream",
     "text": [
      "Model: \"model_2\"\n",
      "_________________________________________________________________\n",
      "Layer (type)                 Output Shape              Param #   \n",
      "=================================================================\n",
      "input_3 (InputLayer)         (None, 28, 28)            0         \n",
      "_________________________________________________________________\n",
      "flatten_2 (Flatten)          (None, 784)               0         \n",
      "_________________________________________________________________\n",
      "dense_5 (Dense)              (None, 128)               100480    \n",
      "_________________________________________________________________\n",
      "dense_6 (Dense)              (None, 64)                8256      \n",
      "_________________________________________________________________\n",
      "dropout_2 (Dropout)          (None, 64)                0         \n",
      "_________________________________________________________________\n",
      "dense_7 (Dense)              (None, 10)                650       \n",
      "=================================================================\n",
      "Total params: 109,386\n",
      "Trainable params: 109,386\n",
      "Non-trainable params: 0\n",
      "_________________________________________________________________\n"
     ]
    }
   ],
   "source": [
    "# Print the model\n",
    "model.summary()"
   ]
  },
  {
   "cell_type": "markdown",
   "metadata": {},
   "source": [
    "#### 2.1.4 Trains the model for a fixed number of epochs (iterations on a dataset)"
   ]
  },
  {
   "cell_type": "markdown",
   "metadata": {},
   "source": [
    "Train the classifier using the training data with 30 epochs and batch size of 32."
   ]
  },
  {
   "cell_type": "code",
   "execution_count": 16,
   "metadata": {},
   "outputs": [
    {
     "name": "stdout",
     "output_type": "stream",
     "text": [
      "Train on 54000 samples, validate on 6000 samples\n",
      "Epoch 1/30\n",
      "54000/54000 [==============================] - 7s 132us/step - loss: 0.1006 - accuracy: 0.9596 - val_loss: 0.0731 - val_accuracy: 0.9702\n",
      "Epoch 2/30\n",
      "54000/54000 [==============================] - 3s 61us/step - loss: 0.0709 - accuracy: 0.9721 - val_loss: 0.0703 - val_accuracy: 0.9728\n",
      "Epoch 3/30\n",
      "54000/54000 [==============================] - 3s 56us/step - loss: 0.0641 - accuracy: 0.9747 - val_loss: 0.0652 - val_accuracy: 0.9739\n",
      "Epoch 4/30\n",
      "54000/54000 [==============================] - 3s 58us/step - loss: 0.0596 - accuracy: 0.9765 - val_loss: 0.0608 - val_accuracy: 0.9750\n",
      "Epoch 5/30\n",
      "54000/54000 [==============================] - 3s 58us/step - loss: 0.0559 - accuracy: 0.9777 - val_loss: 0.0661 - val_accuracy: 0.9733\n",
      "Epoch 6/30\n",
      "54000/54000 [==============================] - 3s 56us/step - loss: 0.0537 - accuracy: 0.9785 - val_loss: 0.0578 - val_accuracy: 0.9771\n",
      "Epoch 7/30\n",
      "54000/54000 [==============================] - 3s 58us/step - loss: 0.0512 - accuracy: 0.9798 - val_loss: 0.0561 - val_accuracy: 0.9777\n",
      "Epoch 8/30\n",
      "54000/54000 [==============================] - 3s 65us/step - loss: 0.0490 - accuracy: 0.9804 - val_loss: 0.0601 - val_accuracy: 0.9767\n",
      "Epoch 9/30\n",
      "54000/54000 [==============================] - 3s 62us/step - loss: 0.0474 - accuracy: 0.9810 - val_loss: 0.0601 - val_accuracy: 0.9770\n",
      "Epoch 10/30\n",
      "54000/54000 [==============================] - 3s 63us/step - loss: 0.0464 - accuracy: 0.9816 - val_loss: 0.0570 - val_accuracy: 0.9780\n",
      "Epoch 11/30\n",
      "54000/54000 [==============================] - 3s 63us/step - loss: 0.0444 - accuracy: 0.9823 - val_loss: 0.0589 - val_accuracy: 0.9784\n",
      "Epoch 12/30\n",
      "54000/54000 [==============================] - 3s 63us/step - loss: 0.0433 - accuracy: 0.9826 - val_loss: 0.0601 - val_accuracy: 0.9775\n",
      "Epoch 13/30\n",
      "54000/54000 [==============================] - 4s 66us/step - loss: 0.0423 - accuracy: 0.9830 - val_loss: 0.0569 - val_accuracy: 0.9786\n",
      "Epoch 14/30\n",
      "54000/54000 [==============================] - 4s 68us/step - loss: 0.0408 - accuracy: 0.9834 - val_loss: 0.0645 - val_accuracy: 0.9777\n",
      "Epoch 15/30\n",
      "54000/54000 [==============================] - 3s 63us/step - loss: 0.0403 - accuracy: 0.9839 - val_loss: 0.0588 - val_accuracy: 0.9784\n",
      "Epoch 16/30\n",
      "54000/54000 [==============================] - 3s 62us/step - loss: 0.0387 - accuracy: 0.9844 - val_loss: 0.0630 - val_accuracy: 0.9787\n",
      "Epoch 17/30\n",
      "54000/54000 [==============================] - 3s 63us/step - loss: 0.0384 - accuracy: 0.9844 - val_loss: 0.0617 - val_accuracy: 0.9784\n",
      "Epoch 00017: early stopping\n",
      "10000/10000 [==============================] - 1s 60us/step\n"
     ]
    }
   ],
   "source": [
    "history = model.fit(x_train, y_train, \n",
    "                    batch_size=batch_size, \n",
    "                    epochs=epochs, \n",
    "                    verbose=1, \n",
    "                    callbacks=[es,checkpoint],\n",
    "                    validation_split=.1)\n",
    "\n",
    "loss, accuracy  = model.evaluate(x_test, y_test, verbose=1)"
   ]
  },
  {
   "cell_type": "markdown",
   "metadata": {},
   "source": [
    "#### 2.1.5 Result"
   ]
  },
  {
   "cell_type": "code",
   "execution_count": 17,
   "metadata": {},
   "outputs": [
    {
     "name": "stdout",
     "output_type": "stream",
     "text": [
      "Test loss: 0.0656\n",
      "Test accuracy: 0.9772\n"
     ]
    }
   ],
   "source": [
    "print('Test loss: %.4f' % loss)\n",
    "print('Test accuracy: %.4f' % accuracy)"
   ]
  },
  {
   "cell_type": "markdown",
   "metadata": {},
   "source": [
    "#### 2.1.6 Visualization of model loss and model accuracy"
   ]
  },
  {
   "cell_type": "code",
   "execution_count": 18,
   "metadata": {},
   "outputs": [
    {
     "data": {
      "image/png": "[encoded data removed]",
      "text/plain": [
       "<Figure size 1080x360 with 2 Axes>"
      ]
     },
     "metadata": {
      "needs_background": "light"
     },
     "output_type": "display_data"
    }
   ],
   "source": [
    "plt.figure(figsize=(15,5))\n",
    "plt.subplot(1, 2, 1)\n",
    "plt.plot(history.history['accuracy'])\n",
    "plt.plot(history.history['val_accuracy'])\n",
    "plt.title('model accuracy')\n",
    "plt.ylabel('accuracy')\n",
    "plt.xlabel('epoch')\n",
    "plt.legend(['training', 'validation'], loc='best')\n",
    "\n",
    "plt.subplot(1, 2, 2)\n",
    "plt.plot(history.history['loss'])\n",
    "plt.plot(history.history['val_loss'])\n",
    "plt.title('model loss')\n",
    "plt.ylabel('loss')\n",
    "plt.xlabel('epoch')\n",
    "plt.legend(['training', 'validation'], loc='best')\n",
    "plt.show()"
   ]
  },
  {
   "cell_type": "markdown",
   "metadata": {},
   "source": [
    "### 3. Auto Encoder"
   ]
  },
  {
   "cell_type": "markdown",
   "metadata": {},
   "source": [
    "#### 3.1 Reshape the training and test dataset to original shape"
   ]
  },
  {
   "cell_type": "code",
   "execution_count": 20,
   "metadata": {},
   "outputs": [],
   "source": [
    "x_train = x_train.reshape((len(x_train), -1))\n",
    "x_test = x_test.reshape((len(x_test), -1))"
   ]
  },
  {
   "cell_type": "markdown",
   "metadata": {},
   "source": [
    "#### 3.2 Encoding the original data"
   ]
  },
  {
   "cell_type": "markdown",
   "metadata": {},
   "source": [
    "Encoder : reduce the input dimensions and compress the input data into an encoded representation."
   ]
  },
  {
   "cell_type": "code",
   "execution_count": 21,
   "metadata": {},
   "outputs": [],
   "source": [
    "encoded = Dense(128, activation='relu')(input_img)\n",
    "encoded = Dense(64, activation='relu')(encoded)"
   ]
  },
  {
   "cell_type": "markdown",
   "metadata": {},
   "source": [
    "#### 3.3 Decode the encoded the data to be close to the original shape"
   ]
  },
  {
   "cell_type": "markdown",
   "metadata": {},
   "source": [
    "Decoder : reconstruct the data from the encoded representation to be as close to the original input as possible."
   ]
  },
  {
   "cell_type": "code",
   "execution_count": 22,
   "metadata": {},
   "outputs": [],
   "source": [
    "decoded = Dense(64, activation='relu')(encoded)\n",
    "decoded = Dense(128, activation='relu')(decoded)\n",
    "decoded = Dense(784, activation='sigmoid')(decoded)"
   ]
  },
  {
   "cell_type": "markdown",
   "metadata": {},
   "source": [
    "#### 3.4 Auto Encoder"
   ]
  },
  {
   "cell_type": "markdown",
   "metadata": {},
   "source": [
    "Autoencoder is an unsupervised artificial neural network that efficiently compress and encode data then reconstruct the data back from the reduced encoded representation to a representation that is as close to the original input as possible."
   ]
  },
  {
   "cell_type": "markdown",
   "metadata": {},
   "source": [
    "#### 3.4.1 Configures the model for training."
   ]
  },
  {
   "cell_type": "code",
   "execution_count": 23,
   "metadata": {},
   "outputs": [],
   "source": [
    "autoencoder = Model(input_img, decoded)\n",
    "\n",
    "#Configures the model for training.\n",
    "autoencoder.compile(optimizer='adadelta', loss='binary_crossentropy', metrics=['accuracy'])"
   ]
  },
  {
   "cell_type": "markdown",
   "metadata": {},
   "source": [
    "#### 3.4.2 View the structure of the deep autoencoder model"
   ]
  },
  {
   "cell_type": "code",
   "execution_count": 24,
   "metadata": {},
   "outputs": [
    {
     "name": "stdout",
     "output_type": "stream",
     "text": [
      "Model: \"model_3\"\n",
      "_________________________________________________________________\n",
      "Layer (type)                 Output Shape              Param #   \n",
      "=================================================================\n",
      "input_1 (InputLayer)         (None, 784)               0         \n",
      "_________________________________________________________________\n",
      "dense_8 (Dense)              (None, 128)               100480    \n",
      "_________________________________________________________________\n",
      "dense_9 (Dense)              (None, 64)                8256      \n",
      "_________________________________________________________________\n",
      "dense_10 (Dense)             (None, 64)                4160      \n",
      "_________________________________________________________________\n",
      "dense_11 (Dense)             (None, 128)               8320      \n",
      "_________________________________________________________________\n",
      "dense_12 (Dense)             (None, 784)               101136    \n",
      "=================================================================\n",
      "Total params: 222,352\n",
      "Trainable params: 222,352\n",
      "Non-trainable params: 0\n",
      "_________________________________________________________________\n"
     ]
    }
   ],
   "source": [
    "autoencoder.summary()"
   ]
  },
  {
   "cell_type": "markdown",
   "metadata": {},
   "source": [
    "#### 3.4.2 Fiting the Autoencoder"
   ]
  },
  {
   "cell_type": "code",
   "execution_count": 25,
   "metadata": {},
   "outputs": [
    {
     "name": "stdout",
     "output_type": "stream",
     "text": [
      "Train on 60000 samples, validate on 10000 samples\n",
      "Epoch 1/30\n",
      "60000/60000 [==============================] - 7s 112us/step - loss: 0.3653 - accuracy: 0.4932 - val_loss: 0.3249 - val_accuracy: 0.5027\n",
      "Epoch 2/30\n",
      "60000/60000 [==============================] - 6s 105us/step - loss: 0.3149 - accuracy: 0.5039 - val_loss: 0.3136 - val_accuracy: 0.5008\n",
      "Epoch 3/30\n",
      "60000/60000 [==============================] - 7s 113us/step - loss: 0.3059 - accuracy: 0.5054 - val_loss: 0.3093 - val_accuracy: 0.5017\n",
      "Epoch 4/30\n",
      "60000/60000 [==============================] - 8s 127us/step - loss: 0.3004 - accuracy: 0.5062 - val_loss: 0.2996 - val_accuracy: 0.5043\n",
      "Epoch 5/30\n",
      "60000/60000 [==============================] - 8s 127us/step - loss: 0.2966 - accuracy: 0.5066 - val_loss: 0.2993 - val_accuracy: 0.5055\n",
      "Epoch 6/30\n",
      "60000/60000 [==============================] - 7s 123us/step - loss: 0.2939 - accuracy: 0.5069 - val_loss: 0.2938 - val_accuracy: 0.5050\n",
      "Epoch 7/30\n",
      "60000/60000 [==============================] - 7s 122us/step - loss: 0.2915 - accuracy: 0.5072 - val_loss: 0.2918 - val_accuracy: 0.5049\n",
      "Epoch 8/30\n",
      "60000/60000 [==============================] - 8s 130us/step - loss: 0.2896 - accuracy: 0.5075 - val_loss: 0.2903 - val_accuracy: 0.5053\n",
      "Epoch 9/30\n",
      "60000/60000 [==============================] - 8s 127us/step - loss: 0.2880 - accuracy: 0.5077 - val_loss: 0.2884 - val_accuracy: 0.5058\n",
      "Epoch 10/30\n",
      "60000/60000 [==============================] - 8s 134us/step - loss: 0.2865 - accuracy: 0.5078 - val_loss: 0.2887 - val_accuracy: 0.5057\n",
      "Epoch 11/30\n",
      "60000/60000 [==============================] - 8s 131us/step - loss: 0.2853 - accuracy: 0.5079 - val_loss: 0.2872 - val_accuracy: 0.5062\n",
      "Epoch 12/30\n",
      "60000/60000 [==============================] - 8s 128us/step - loss: 0.2843 - accuracy: 0.5080 - val_loss: 0.2854 - val_accuracy: 0.5061\n",
      "Epoch 13/30\n",
      "60000/60000 [==============================] - 8s 133us/step - loss: 0.2834 - accuracy: 0.5081 - val_loss: 0.2847 - val_accuracy: 0.5060\n",
      "Epoch 14/30\n",
      "60000/60000 [==============================] - 8s 129us/step - loss: 0.2825 - accuracy: 0.5082 - val_loss: 0.2845 - val_accuracy: 0.5059\n",
      "Epoch 15/30\n",
      "60000/60000 [==============================] - 8s 125us/step - loss: 0.2818 - accuracy: 0.5083 - val_loss: 0.2831 - val_accuracy: 0.5060\n",
      "Epoch 16/30\n",
      "60000/60000 [==============================] - 8s 130us/step - loss: 0.2812 - accuracy: 0.5083 - val_loss: 0.2822 - val_accuracy: 0.5063\n",
      "Epoch 17/30\n",
      "60000/60000 [==============================] - 7s 120us/step - loss: 0.2806 - accuracy: 0.5084 - val_loss: 0.2821 - val_accuracy: 0.5061\n",
      "Epoch 18/30\n",
      "60000/60000 [==============================] - 7s 120us/step - loss: 0.2801 - accuracy: 0.5084 - val_loss: 0.2820 - val_accuracy: 0.5064\n",
      "Epoch 19/30\n",
      "60000/60000 [==============================] - 7s 117us/step - loss: 0.2795 - accuracy: 0.5085 - val_loss: 0.2825 - val_accuracy: 0.5064\n",
      "Epoch 20/30\n",
      "60000/60000 [==============================] - 7s 118us/step - loss: 0.2791 - accuracy: 0.5085 - val_loss: 0.2811 - val_accuracy: 0.5061\n",
      "Epoch 21/30\n",
      "60000/60000 [==============================] - 7s 121us/step - loss: 0.2787 - accuracy: 0.5085 - val_loss: 0.2803 - val_accuracy: 0.5063\n",
      "Epoch 22/30\n",
      "60000/60000 [==============================] - 8s 127us/step - loss: 0.2783 - accuracy: 0.5086 - val_loss: 0.2812 - val_accuracy: 0.5065\n",
      "Epoch 23/30\n",
      "60000/60000 [==============================] - 8s 135us/step - loss: 0.2780 - accuracy: 0.5086 - val_loss: 0.2794 - val_accuracy: 0.5065\n",
      "Epoch 24/30\n",
      "60000/60000 [==============================] - 7s 124us/step - loss: 0.2776 - accuracy: 0.5086 - val_loss: 0.2798 - val_accuracy: 0.5064\n",
      "Epoch 25/30\n",
      "60000/60000 [==============================] - 7s 122us/step - loss: 0.2773 - accuracy: 0.5086 - val_loss: 0.2786 - val_accuracy: 0.5065\n",
      "Epoch 26/30\n",
      "60000/60000 [==============================] - 8s 129us/step - loss: 0.2769 - accuracy: 0.5087 - val_loss: 0.2789 - val_accuracy: 0.5064\n",
      "Epoch 27/30\n",
      "60000/60000 [==============================] - 7s 121us/step - loss: 0.2766 - accuracy: 0.5087 - val_loss: 0.2786 - val_accuracy: 0.5067\n",
      "Epoch 28/30\n",
      "60000/60000 [==============================] - 8s 126us/step - loss: 0.2764 - accuracy: 0.5087 - val_loss: 0.2775 - val_accuracy: 0.5066\n",
      "Epoch 29/30\n",
      "60000/60000 [==============================] - 8s 139us/step - loss: 0.2760 - accuracy: 0.5087 - val_loss: 0.2778 - val_accuracy: 0.5064\n",
      "Epoch 30/30\n",
      "60000/60000 [==============================] - 7s 122us/step - loss: 0.2758 - accuracy: 0.5087 - val_loss: 0.2808 - val_accuracy: 0.5060\n"
     ]
    },
    {
     "data": {
      "text/plain": [
       "<keras.callbacks.callbacks.History at 0x133587331d0>"
      ]
     },
     "execution_count": 25,
     "metadata": {},
     "output_type": "execute_result"
    }
   ],
   "source": [
    "autoencoder.fit(x_train, x_train,\n",
    "                epochs=epochs,\n",
    "                batch_size=batch_size,\n",
    "                shuffle=True,\n",
    "                verbose=1,\n",
    "                callbacks=[es,checkpoint],\n",
    "                validation_data=(x_test, x_test))"
   ]
  },
  {
   "cell_type": "markdown",
   "metadata": {},
   "source": [
    "#### 3.4.3 Visualization of auto encoder resutls"
   ]
  },
  {
   "cell_type": "code",
   "execution_count": 26,
   "metadata": {},
   "outputs": [
    {
     "data": {
      "image/png": "[encoded data removed]",
      "text/plain": [
       "<Figure size 1440x288 with 20 Axes>"
      ]
     },
     "metadata": {
      "needs_background": "light"
     },
     "output_type": "display_data"
    }
   ],
   "source": [
    "decoded_imgs = autoencoder.predict(x_test)\n",
    "\n",
    "n = 10\n",
    "plt.figure(figsize=(20, 4))\n",
    "for i in range(n):\n",
    "    # display original\n",
    "    ax = plt.subplot(2, n, i + 1)\n",
    "    plt.imshow(x_test[i].reshape(28, 28))\n",
    "    plt.gray()\n",
    "    ax.get_xaxis().set_visible(False)\n",
    "    ax.get_yaxis().set_visible(False)\n",
    "\n",
    "    # display reconstruction\n",
    "    ax = plt.subplot(2, n, i + n + 1)\n",
    "    plt.imshow(decoded_imgs[i].reshape(28, 28))\n",
    "    plt.gray()\n",
    "    ax.get_xaxis().set_visible(False)\n",
    "    ax.get_yaxis().set_visible(False)\n",
    "plt.show()"
   ]
  },
  {
   "cell_type": "markdown",
   "metadata": {},
   "source": [
    "### 3.5 Encoder"
   ]
  },
  {
   "cell_type": "markdown",
   "metadata": {},
   "source": [
    "#### 3.5.1 Encode the original data then summarize the data"
   ]
  },
  {
   "cell_type": "code",
   "execution_count": 36,
   "metadata": {},
   "outputs": [],
   "source": [
    "encoder = Model(input_img, encoded)"
   ]
  },
  {
   "cell_type": "markdown",
   "metadata": {},
   "source": [
    "#### 3.5.2 View the structure of the deep encoder model"
   ]
  },
  {
   "cell_type": "code",
   "execution_count": 37,
   "metadata": {},
   "outputs": [
    {
     "name": "stdout",
     "output_type": "stream",
     "text": [
      "Model: \"model_6\"\n",
      "_________________________________________________________________\n",
      "Layer (type)                 Output Shape              Param #   \n",
      "=================================================================\n",
      "input_1 (InputLayer)         (None, 784)               0         \n",
      "_________________________________________________________________\n",
      "dense_8 (Dense)              (None, 128)               100480    \n",
      "_________________________________________________________________\n",
      "dense_9 (Dense)              (None, 64)                8256      \n",
      "=================================================================\n",
      "Total params: 108,736\n",
      "Trainable params: 108,736\n",
      "Non-trainable params: 0\n",
      "_________________________________________________________________\n"
     ]
    }
   ],
   "source": [
    "encoder.summary()"
   ]
  },
  {
   "cell_type": "markdown",
   "metadata": {},
   "source": [
    "#### 3.5.2 predicting the encoder data"
   ]
  },
  {
   "cell_type": "markdown",
   "metadata": {},
   "source": [
    "Generates output predictions for the x_test"
   ]
  },
  {
   "cell_type": "code",
   "execution_count": 38,
   "metadata": {},
   "outputs": [],
   "source": [
    "encoded_test_data = encoder.predict(x_test)"
   ]
  },
  {
   "cell_type": "markdown",
   "metadata": {},
   "source": [
    "#### 3.5.3 Visualization of encoder data"
   ]
  },
  {
   "cell_type": "code",
   "execution_count": 39,
   "metadata": {},
   "outputs": [
    {
     "data": {
      "image/png": "[encoded data removed]",
      "text/plain": [
       "<Figure size 1440x288 with 20 Axes>"
      ]
     },
     "metadata": {
      "needs_background": "light"
     },
     "output_type": "display_data"
    }
   ],
   "source": [
    "n = 10\n",
    "plt.figure(figsize=(20, 4))\n",
    "for i in range(n):\n",
    "    # display original\n",
    "    ax = plt.subplot(2, n, i + 1)\n",
    "    plt.imshow(x_test[i].reshape(28, 28))\n",
    "    plt.gray()\n",
    "    ax.get_xaxis().set_visible(False)\n",
    "    ax.get_yaxis().set_visible(False)\n",
    "    \n",
    "    # display encoded images\n",
    "    ax = plt.subplot(2, n, i + n + 1)\n",
    "    plt.imshow(encoded_test_data[i].reshape(8,8))\n",
    "    plt.gray()\n",
    "    ax.get_xaxis().set_visible(False)\n",
    "    ax.get_yaxis().set_visible(False)\n",
    "    \n",
    "plt.show()"
   ]
  },
  {
   "cell_type": "markdown",
   "metadata": {},
   "source": [
    "### 3.6 Classifier for encoded data"
   ]
  },
  {
   "cell_type": "markdown",
   "metadata": {},
   "source": [
    "### 3.6.1 Definition of Image Classifier Model"
   ]
  },
  {
   "cell_type": "code",
   "execution_count": 40,
   "metadata": {},
   "outputs": [],
   "source": [
    "def image_classifier_model(input_size,no_classes,neurons=32, dropout_rate=0.5,\n",
    "                 init_mode='uniform',optimizer='adam', learn_rate=0.01, momentum=0,\n",
    "                 activation='relu'):\n",
    "    input_ = Input(shape=(input_size,))\n",
    "    x = Dense(neurons, kernel_initializer=init_mode,activation=activation)(input_)\n",
    "    x = Dropout(dropout_rate)(x)\n",
    "    outputs = Dense(no_classes,\n",
    "                   kernel_initializer=init_mode,\n",
    "                   activation='softmax')(x)\n",
    "    model = Model(input_, outputs)\n",
    "    \n",
    "    # Compile model\n",
    "    # optimizer = optimizer(lr=learn_rate, momentum=momentum)\n",
    "    # Optimizer     -- Adam\n",
    "    # Loss function -- categorical_crossentropy\n",
    "    # Metrics       -- Accuracy \n",
    "    model.compile(loss='categorical_crossentropy', optimizer=optimizer, metrics=['accuracy'])\n",
    "    return model"
   ]
  },
  {
   "cell_type": "markdown",
   "metadata": {},
   "source": [
    "#### 3.6.1 Creating an Image Classifier Model"
   ]
  },
  {
   "cell_type": "code",
   "execution_count": 41,
   "metadata": {},
   "outputs": [],
   "source": [
    "# create model\n",
    "classifier = image_classifier_model(encoded_test_data.shape[1], y_train.shape[1])"
   ]
  },
  {
   "cell_type": "markdown",
   "metadata": {},
   "source": [
    "#### 3.6.2 View the structure of the image classifier model"
   ]
  },
  {
   "cell_type": "code",
   "execution_count": 42,
   "metadata": {},
   "outputs": [
    {
     "name": "stdout",
     "output_type": "stream",
     "text": [
      "Model: \"model_7\"\n",
      "_________________________________________________________________\n",
      "Layer (type)                 Output Shape              Param #   \n",
      "=================================================================\n",
      "input_5 (InputLayer)         (None, 64)                0         \n",
      "_________________________________________________________________\n",
      "dense_15 (Dense)             (None, 32)                2080      \n",
      "_________________________________________________________________\n",
      "dropout_4 (Dropout)          (None, 32)                0         \n",
      "_________________________________________________________________\n",
      "dense_16 (Dense)             (None, 10)                330       \n",
      "=================================================================\n",
      "Total params: 2,410\n",
      "Trainable params: 2,410\n",
      "Non-trainable params: 0\n",
      "_________________________________________________________________\n"
     ]
    }
   ],
   "source": [
    "# Print the model\n",
    "classifier.summary()"
   ]
  },
  {
   "cell_type": "markdown",
   "metadata": {},
   "source": [
    "#### 3.6.3 Predicting the encoder data"
   ]
  },
  {
   "cell_type": "markdown",
   "metadata": {},
   "source": [
    "Generates output predictions for the x_train"
   ]
  },
  {
   "cell_type": "code",
   "execution_count": 43,
   "metadata": {},
   "outputs": [],
   "source": [
    "encoded_oiginal_data = encoder.predict(x_train)"
   ]
  },
  {
   "cell_type": "markdown",
   "metadata": {},
   "source": [
    "#### 3.6.4 Trains the model for a fixed number of epochs (iterations on a dataset)."
   ]
  },
  {
   "cell_type": "code",
   "execution_count": 48,
   "metadata": {},
   "outputs": [
    {
     "name": "stdout",
     "output_type": "stream",
     "text": [
      "Train on 54000 samples, validate on 6000 samples\n",
      "Epoch 1/30\n",
      "54000/54000 [==============================] - 2s 28us/step - loss: 0.9798 - accuracy: 0.6322 - val_loss: 0.5804 - val_accuracy: 0.7822\n",
      "Epoch 2/30\n",
      "54000/54000 [==============================] - 1s 26us/step - loss: 0.7418 - accuracy: 0.7221 - val_loss: 0.5329 - val_accuracy: 0.8025\n",
      "Epoch 3/30\n",
      "54000/54000 [==============================] - 1s 26us/step - loss: 0.6998 - accuracy: 0.7387 - val_loss: 0.5017 - val_accuracy: 0.8155\n",
      "Epoch 4/30\n",
      "54000/54000 [==============================] - 1s 27us/step - loss: 0.6768 - accuracy: 0.7467 - val_loss: 0.4896 - val_accuracy: 0.8188\n",
      "Epoch 5/30\n",
      "54000/54000 [==============================] - 1s 26us/step - loss: 0.6658 - accuracy: 0.7520 - val_loss: 0.4779 - val_accuracy: 0.8248\n",
      "Epoch 6/30\n",
      "54000/54000 [==============================] - 1s 26us/step - loss: 0.6553 - accuracy: 0.7572 - val_loss: 0.4707 - val_accuracy: 0.8283\n",
      "Epoch 7/30\n",
      "54000/54000 [==============================] - 2s 30us/step - loss: 0.6454 - accuracy: 0.7579 - val_loss: 0.4661 - val_accuracy: 0.8265\n",
      "Epoch 8/30\n",
      "54000/54000 [==============================] - 1s 25us/step - loss: 0.6402 - accuracy: 0.7622 - val_loss: 0.4599 - val_accuracy: 0.8318\n",
      "Epoch 9/30\n",
      "54000/54000 [==============================] - 1s 25us/step - loss: 0.6347 - accuracy: 0.7615 - val_loss: 0.4663 - val_accuracy: 0.8308\n",
      "Epoch 10/30\n",
      "54000/54000 [==============================] - 1s 28us/step - loss: 0.6351 - accuracy: 0.7637 - val_loss: 0.4580 - val_accuracy: 0.8328\n",
      "Epoch 11/30\n",
      "54000/54000 [==============================] - 1s 25us/step - loss: 0.6326 - accuracy: 0.7628 - val_loss: 0.4581 - val_accuracy: 0.8315\n",
      "Epoch 12/30\n",
      "54000/54000 [==============================] - 1s 25us/step - loss: 0.6268 - accuracy: 0.7665 - val_loss: 0.4579 - val_accuracy: 0.8255\n",
      "Epoch 13/30\n",
      "54000/54000 [==============================] - 1s 26us/step - loss: 0.6277 - accuracy: 0.7635 - val_loss: 0.4462 - val_accuracy: 0.8328\n",
      "Epoch 14/30\n",
      "54000/54000 [==============================] - 1s 26us/step - loss: 0.6272 - accuracy: 0.7644 - val_loss: 0.4485 - val_accuracy: 0.8337\n",
      "Epoch 15/30\n",
      "54000/54000 [==============================] - 1s 26us/step - loss: 0.6247 - accuracy: 0.7663 - val_loss: 0.4506 - val_accuracy: 0.8302\n",
      "Epoch 16/30\n",
      "54000/54000 [==============================] - 1s 26us/step - loss: 0.6251 - accuracy: 0.7658 - val_loss: 0.4406 - val_accuracy: 0.8333\n",
      "Epoch 17/30\n",
      "54000/54000 [==============================] - 1s 25us/step - loss: 0.6234 - accuracy: 0.7644 - val_loss: 0.4391 - val_accuracy: 0.8360\n",
      "Epoch 18/30\n",
      "54000/54000 [==============================] - 1s 28us/step - loss: 0.6151 - accuracy: 0.7706 - val_loss: 0.4381 - val_accuracy: 0.8370\n",
      "Epoch 19/30\n",
      "54000/54000 [==============================] - 1s 26us/step - loss: 0.6176 - accuracy: 0.7678 - val_loss: 0.4389 - val_accuracy: 0.8377\n",
      "Epoch 20/30\n",
      "54000/54000 [==============================] - 1s 26us/step - loss: 0.6149 - accuracy: 0.7720 - val_loss: 0.4382 - val_accuracy: 0.8347\n",
      "Epoch 21/30\n",
      "54000/54000 [==============================] - 1s 26us/step - loss: 0.6146 - accuracy: 0.7699 - val_loss: 0.4428 - val_accuracy: 0.8393\n",
      "Epoch 22/30\n",
      "54000/54000 [==============================] - 1s 27us/step - loss: 0.6118 - accuracy: 0.7725 - val_loss: 0.4423 - val_accuracy: 0.8375\n",
      "Epoch 23/30\n",
      "54000/54000 [==============================] - 2s 30us/step - loss: 0.6134 - accuracy: 0.7691 - val_loss: 0.4367 - val_accuracy: 0.8353\n",
      "Epoch 24/30\n",
      "54000/54000 [==============================] - 1s 28us/step - loss: 0.6122 - accuracy: 0.7697 - val_loss: 0.4397 - val_accuracy: 0.8373\n",
      "Epoch 25/30\n",
      "54000/54000 [==============================] - 2s 30us/step - loss: 0.6079 - accuracy: 0.7730 - val_loss: 0.4319 - val_accuracy: 0.8335\n",
      "Epoch 26/30\n",
      "54000/54000 [==============================] - 2s 28us/step - loss: 0.6132 - accuracy: 0.7686 - val_loss: 0.4384 - val_accuracy: 0.8365\n",
      "Epoch 27/30\n",
      "54000/54000 [==============================] - 2s 28us/step - loss: 0.6098 - accuracy: 0.7713 - val_loss: 0.4406 - val_accuracy: 0.8350\n",
      "Epoch 28/30\n",
      "54000/54000 [==============================] - 1s 27us/step - loss: 0.6043 - accuracy: 0.7734 - val_loss: 0.4377 - val_accuracy: 0.8377\n",
      "Epoch 29/30\n",
      "54000/54000 [==============================] - 1s 27us/step - loss: 0.6097 - accuracy: 0.7716 - val_loss: 0.4372 - val_accuracy: 0.8365\n",
      "Epoch 30/30\n",
      "54000/54000 [==============================] - 1s 26us/step - loss: 0.6050 - accuracy: 0.7735 - val_loss: 0.4410 - val_accuracy: 0.8335\n"
     ]
    }
   ],
   "source": [
    "history = classifier.fit(encoded_oiginal_data, y_train, \n",
    "                    batch_size=batch_size, \n",
    "                    epochs=epochs, \n",
    "                    verbose=1, \n",
    "                    callbacks=[es,checkpoint],\n",
    "                    validation_split=.1)"
   ]
  },
  {
   "cell_type": "markdown",
   "metadata": {},
   "source": [
    "#### 3.6.5 Visualization of model loss and model accuracy "
   ]
  },
  {
   "cell_type": "code",
   "execution_count": 44,
   "metadata": {},
   "outputs": [
    {
     "data": {
      "image/png": "[encoded data removed]",
      "text/plain": [
       "<Figure size 1080x360 with 2 Axes>"
      ]
     },
     "metadata": {
      "needs_background": "light"
     },
     "output_type": "display_data"
    }
   ],
   "source": [
    "plt.figure(figsize=(15,5))\n",
    "plt.subplot(1, 2, 1)\n",
    "plt.plot(history.history['accuracy'])\n",
    "plt.plot(history.history['val_accuracy'])\n",
    "plt.title('model accuracy')\n",
    "plt.ylabel('accuracy')\n",
    "plt.xlabel('epoch')\n",
    "plt.legend(['training', 'validation'], loc='best')\n",
    "\n",
    "plt.subplot(1, 2, 2)\n",
    "plt.plot(history.history['loss'])\n",
    "plt.plot(history.history['val_loss'])\n",
    "plt.title('model loss')\n",
    "plt.ylabel('loss')\n",
    "plt.xlabel('epoch')\n",
    "plt.legend(['training', 'validation'], loc='best')\n",
    "plt.show()"
   ]
  },
  {
   "cell_type": "code",
   "execution_count": 45,
   "metadata": {},
   "outputs": [
    {
     "data": {
      "text/plain": [
       "array([[0.09689225, 0.10770137, 0.10132733, ..., 0.0940297 , 0.09514936,\n",
       "        0.09228899],\n",
       "       [0.09576605, 0.09521185, 0.10584074, ..., 0.10096664, 0.09430189,\n",
       "        0.10894083],\n",
       "       [0.10769831, 0.11139724, 0.10300096, ..., 0.09561191, 0.09832832,\n",
       "        0.09634306],\n",
       "       ...,\n",
       "       [0.10119503, 0.1049429 , 0.10469024, ..., 0.09401792, 0.09834056,\n",
       "        0.0923101 ],\n",
       "       [0.10272132, 0.10818253, 0.10137573, ..., 0.10086083, 0.09860357,\n",
       "        0.09646172],\n",
       "       [0.0995659 , 0.1069572 , 0.10315623, ..., 0.09531662, 0.09659142,\n",
       "        0.09508226]], dtype=float32)"
      ]
     },
     "execution_count": 45,
     "metadata": {},
     "output_type": "execute_result"
    }
   ],
   "source": [
    "classifier.predict(encoded_test_data)"
   ]
  },
  {
   "cell_type": "code",
   "execution_count": 46,
   "metadata": {},
   "outputs": [
    {
     "name": "stdout",
     "output_type": "stream",
     "text": [
      "10000/10000 [==============================] - 0s 19us/step\n"
     ]
    }
   ],
   "source": [
    "loss, accuracy  = classifier.evaluate(encoded_test_data, y_test, verbose=1)"
   ]
  },
  {
   "cell_type": "code",
   "execution_count": 47,
   "metadata": {},
   "outputs": [
    {
     "name": "stdout",
     "output_type": "stream",
     "text": [
      "Test loss: 2.3083\n",
      "Test accuracy: 0.1623\n"
     ]
    }
   ],
   "source": [
    "print('Test loss: %.4f' % loss)\n",
    "print('Test accuracy: %.4f' % accuracy)"
   ]
  }
 ],
 "metadata": {
  "kernelspec": {
   "display_name": "Python 3",
   "language": "python",
   "name": "python3"
  },
  "language_info": {
   "codemirror_mode": {
    "name": "ipython",
    "version": 3
   },
   "file_extension": ".py",
   "mimetype": "text/x-python",
   "name": "python",
   "nbconvert_exporter": "python",
   "pygments_lexer": "ipython3",
   "version": "3.7.3"
  }
 },
 "nbformat": 4,
 "nbformat_minor": 2
}
