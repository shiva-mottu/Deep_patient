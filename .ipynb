{
 "cells": [
  {
   "cell_type": "markdown",
   "metadata": {},
   "source": [
    "## Classifier with autoencoder\n",
    "\n",
    "#### This notebook contains classifier with 3 different medical targets\n",
    "##### Target 1 : Mordibity classification\n",
    "##### Target 2 : Clinical procedures classification\n",
    "##### Target 3 : Destination classification"
   ]
  },
  {
   "cell_type": "code",
   "execution_count": 57,
   "metadata": {},
   "outputs": [],
   "source": [
    "import pandas as pd\n",
    "import numpy as np\n",
    "import keras\n",
    "from sklearn.model_selection import GridSearchCV, RandomizedSearchCV\n",
    "from sklearn.model_selection import train_test_split\n",
    "from keras.wrappers.scikit_learn import KerasClassifier"
   ]
  },
  {
   "cell_type": "markdown",
   "metadata": {},
   "source": [
    "## Target 1 : Classify major clinical category\n",
    "### Read the data and split into 3 datasets\n",
    "##### 10,000 inpatients records with 12290 clinical binarized descriptors"
   ]
  },
  {
   "cell_type": "code",
   "execution_count": 4,
   "metadata": {},
   "outputs": [],
   "source": [
    "x = pd.read_csv(\"data/BPPR-x1-5-x7-10-y1-2008.txt\", sep=\",\", header=None)\n",
    "y = pd.read_csv(\"data/labels_y1-x1-5-x7-10-y1-2008.txt\", sep=\",\", header=None)"
   ]
  },
  {
   "cell_type": "code",
   "execution_count": 14,
   "metadata": {},
   "outputs": [
    {
     "name": "stdout",
     "output_type": "stream",
     "text": [
      "X contains 12290 columns for 10000 inpatients\n",
      "Y contains 20 categories\n"
     ]
    }
   ],
   "source": [
    "print(\"X contains {} columns for {} inpatients\".format(x.shape[1], x.shape[0]))\n",
    "print(\"Y contains {} categories\".format(y.shape[1]))"
   ]
  },
  {
   "cell_type": "code",
   "execution_count": 10,
   "metadata": {},
   "outputs": [],
   "source": [
    "x_train, x_test, y_train, y_test = train_test_split(x.values, y.values, test_size=0.2)\n",
    "x_test, x_valid, y_test, y_valid = train_test_split(x_test, y_test, test_size=0.5)\n",
    "input_shape = (x.train.shape[1],)\n",
    "num_classes = y_train.shape[1]"
   ]
  },
  {
   "cell_type": "code",
   "execution_count": 13,
   "metadata": {},
   "outputs": [
    {
     "name": "stdout",
     "output_type": "stream",
     "text": [
      "Train      :: 8000 inpatients\n",
      "Test       :: 1000 inpatients\n",
      "validation :: 1000 inpatients\n"
     ]
    }
   ],
   "source": [
    "print(\"Train      :: {} inpatients\".format(x_train.shape[0]))\n",
    "print(\"Test       :: {} inpatients\".format(x_test.shape[0]))\n",
    "print(\"validation :: {} inpatients\".format(x_valid.shape[0]))"
   ]
  },
  {
   "cell_type": "code",
   "execution_count": 80,
   "metadata": {},
   "outputs": [],
   "source": [
    "def create_model(dropout_rate=0.4,\n",
    "                 neurons=input_shape[0],\n",
    "                 init_mode='uniform',\n",
    "                 optimizer='adam', \n",
    "                 learn_rate=0.01, \n",
    "                 activation='relu',\n",
    "                 decay_rate=0.6):\n",
    "    nodes = []\n",
    "    fn = lambda x: int(x*decay_rate)\n",
    "    while True:\n",
    "        neurons = fn(neurons)\n",
    "        if neurons <= 20:\n",
    "            break\n",
    "        else:\n",
    "            nodes.append(neurons)\n",
    "    print(nodes)\n",
    "    inputs = keras.layers.Input(shape=input_shape)\n",
    "    x = inputs\n",
    "    \n",
    "    for i in range(len(nodes)):\n",
    "        x = keras.layers.Dense(nodes[i], kernel_initializer=init_mode, activation=activation)(x)\n",
    "        x = keras.layers.Dropout(dropout_rate)(x)\n",
    "\n",
    "    outputs = keras.layers.Dense(num_classes, kernel_initializer=init_mode, activation='softmax')(x)\n",
    "    \n",
    "    model = keras.models.Model(inputs=inputs, outputs=outputs)\n",
    "    \n",
    "    #compile model\n",
    "    model.compile(loss='binary_crossentropy', optimizer=optimizer, metrics=['accuracy'])\n",
    "    return model"
   ]
  },
  {
   "cell_type": "code",
   "execution_count": 81,
   "metadata": {},
   "outputs": [],
   "source": [
    "model = KerasClassifier(build_fn=create_model, verbose=2)"
   ]
  },
  {
   "cell_type": "markdown",
   "metadata": {},
   "source": [
    "#### Hyperparameters"
   ]
  },
  {
   "cell_type": "code",
   "execution_count": 85,
   "metadata": {},
   "outputs": [],
   "source": [
    "# define the grid search parameters\n",
    "#batch_size = [8, 16, 32, 64, 128, 256, 512, 1024]\n",
    "gridSearch_batch_Size = [2]\n",
    "\n",
    "#epochs = [10, 50, 100,500,1000]\n",
    "gridSearch_epochs = [30,50]\n",
    "\n",
    "#optimizer = ['SGD', 'RMSprop', 'Adagrad', 'Adadelta', 'Adam', 'Adamax', 'Nadam']\n",
    "gridSearch_optimizer = ['Adam']\n",
    "\n",
    "#learn_rate = [0.001, 0.01, 0.1, 0.2, 0.3]\n",
    "gridSearch_learn_rate = [0.01]\n",
    "\n",
    "#activation = ['softmax', 'softplus', 'softsign', 'relu', 'tanh', 'sigmoid', 'hard_sigmoid', 'linear']\n",
    "gridSearch_activation = ['relu']\n",
    "\n",
    "#dropout_rate = [0.0, 0.1, 0.2, 0.3, 0.4, 0.5, 0.6, 0.7, 0.8, 0.9]\n",
    "gridSearch_dropout_rate = [0.4]\n",
    "\n",
    "gridSearch_decay_rate = [0.1, 0.2, 0.3, 0.4, 0.5, 0.6, 0.7, 0.8]\n",
    "\n",
    "#gridSearch_layers = np.arange(1, 10)\n",
    "\n",
    "param_grid = dict(batch_size=gridSearch_batch_Size\n",
    "                  #,hidden_layers=gridSearch_layers\n",
    "                  ,decay_rate=gridSearch_decay_rate\n",
    "                  ,dropout_rate=gridSearch_dropout_rate\n",
    "                  #,epochs=gridSearch_epochs\n",
    "                  ,optimizer=gridSearch_optimizer \n",
    "                  ,learn_rate=gridSearch_learn_rate \n",
    "                  ,activation=gridSearch_activation)\n",
    "\n",
    "init_mode='uniform'\n",
    "momentum=0"
   ]
  },
  {
   "cell_type": "code",
   "execution_count": 86,
   "metadata": {},
   "outputs": [],
   "source": [
    "grid = RandomizedSearchCV(estimator=model, param_distributions=param_grid, n_jobs=-1, cv=3)"
   ]
  },
  {
   "cell_type": "code",
   "execution_count": null,
   "metadata": {},
   "outputs": [],
   "source": [
    "grid_result = grid.fit(x_train, y_train, verbose=1)"
   ]
  },
  {
   "cell_type": "code",
   "execution_count": 99,
   "metadata": {},
   "outputs": [],
   "source": [
    "es = keras.callbacks.EarlyStopping(monitor='val_loss', mode='min', verbose=1, patience=5)\n",
    "checkpoint= keras.callbacks.ModelCheckpoint('best_model.h5', monitor='val_loss', mode='min', save_best_only=True)\n",
    "model = create_model(decay_rate=0.4)"
   ]
  },
  {
   "cell_type": "code",
   "execution_count": 100,
   "metadata": {},
   "outputs": [
    {
     "name": "stdout",
     "output_type": "stream",
     "text": [
      "Model: \"model_4\"\n",
      "_________________________________________________________________\n",
      "Layer (type)                 Output Shape              Param #   \n",
      "=================================================================\n",
      "input_4 (InputLayer)         (None, 12290)             0         \n",
      "_________________________________________________________________\n",
      "dense_21 (Dense)             (None, 4916)              60422556  \n",
      "_________________________________________________________________\n",
      "dropout_18 (Dropout)         (None, 4916)              0         \n",
      "_________________________________________________________________\n",
      "dense_22 (Dense)             (None, 1966)              9666822   \n",
      "_________________________________________________________________\n",
      "dropout_19 (Dropout)         (None, 1966)              0         \n",
      "_________________________________________________________________\n",
      "dense_23 (Dense)             (None, 786)               1546062   \n",
      "_________________________________________________________________\n",
      "dropout_20 (Dropout)         (None, 786)               0         \n",
      "_________________________________________________________________\n",
      "dense_24 (Dense)             (None, 314)               247118    \n",
      "_________________________________________________________________\n",
      "dropout_21 (Dropout)         (None, 314)               0         \n",
      "_________________________________________________________________\n",
      "dense_25 (Dense)             (None, 125)               39375     \n",
      "_________________________________________________________________\n",
      "dropout_22 (Dropout)         (None, 125)               0         \n",
      "_________________________________________________________________\n",
      "dense_26 (Dense)             (None, 50)                6300      \n",
      "_________________________________________________________________\n",
      "dropout_23 (Dropout)         (None, 50)                0         \n",
      "_________________________________________________________________\n",
      "dense_27 (Dense)             (None, 20)                1020      \n",
      "=================================================================\n",
      "Total params: 71,929,253\n",
      "Trainable params: 71,929,253\n",
      "Non-trainable params: 0\n",
      "_________________________________________________________________\n"
     ]
    }
   ],
   "source": [
    "model.summary()"
   ]
  },
  {
   "cell_type": "code",
   "execution_count": null,
   "metadata": {},
   "outputs": [
    {
     "name": "stdout",
     "output_type": "stream",
     "text": [
      "Train on 8000 samples, validate on 1000 samples\n",
      "Epoch 1/50\n",
      "8000/8000 [==============================] - 54s 7ms/step - loss: 0.1664 - accuracy: 0.9499 - val_loss: 0.1458 - val_accuracy: 0.9510\n",
      "Epoch 2/50\n",
      "8000/8000 [==============================] - 57s 7ms/step - loss: 0.1374 - accuracy: 0.9561 - val_loss: 0.1166 - val_accuracy: 0.9638\n",
      "Epoch 3/50\n",
      "8000/8000 [==============================] - 54s 7ms/step - loss: 0.1140 - accuracy: 0.9637 - val_loss: 0.1029 - val_accuracy: 0.9685\n",
      "Epoch 4/50\n",
      "8000/8000 [==============================] - 54s 7ms/step - loss: 0.0973 - accuracy: 0.9686 - val_loss: 0.0896 - val_accuracy: 0.9712\n",
      "Epoch 5/50\n",
      "8000/8000 [==============================] - 55s 7ms/step - loss: 0.0882 - accuracy: 0.9711 - val_loss: 0.0792 - val_accuracy: 0.9734\n",
      "Epoch 6/50\n",
      "8000/8000 [==============================] - 56s 7ms/step - loss: 0.0784 - accuracy: 0.9730 - val_loss: 0.0757 - val_accuracy: 0.9740\n",
      "Epoch 7/50\n",
      "8000/8000 [==============================] - 52s 7ms/step - loss: 0.0729 - accuracy: 0.9741 - val_loss: 0.0716 - val_accuracy: 0.9741\n",
      "Epoch 8/50\n",
      "8000/8000 [==============================] - 52s 6ms/step - loss: 0.0686 - accuracy: 0.9748 - val_loss: 0.0670 - val_accuracy: 0.9762\n",
      "Epoch 9/50\n",
      "8000/8000 [==============================] - 52s 7ms/step - loss: 0.0637 - accuracy: 0.9757 - val_loss: 0.0636 - val_accuracy: 0.9785\n",
      "Epoch 10/50\n",
      "8000/8000 [==============================] - 54s 7ms/step - loss: 0.0600 - accuracy: 0.9774 - val_loss: 0.0614 - val_accuracy: 0.9788\n",
      "Epoch 11/50\n",
      " 640/8000 [=>............................] - ETA: 47s - loss: 0.0529 - accuracy: 0.9793"
     ]
    }
   ],
   "source": [
    "model.fit(x_train, y_train, \n",
    "          batch_size=128, \n",
    "          epochs=50,\n",
    "          callbacks=[es, checkpoint],\n",
    "          validation_data=(x_test, y_test))"
   ]
  },
  {
   "cell_type": "code",
   "execution_count": null,
   "metadata": {},
   "outputs": [],
   "source": []
  }
 ],
 "metadata": {
  "kernelspec": {
   "display_name": "Python 3",
   "language": "python",
   "name": "python3"
  },
  "language_info": {
   "codemirror_mode": {
    "name": "ipython",
    "version": 3
   },
   "file_extension": ".py",
   "mimetype": "text/x-python",
   "name": "python",
   "nbconvert_exporter": "python",
   "pygments_lexer": "ipython3",
   "version": "3.7.4"
  }
 },
 "nbformat": 4,
 "nbformat_minor": 4
}
