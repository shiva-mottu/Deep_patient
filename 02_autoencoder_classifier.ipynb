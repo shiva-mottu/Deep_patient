{
 "cells": [
  {
   "cell_type": "markdown",
   "metadata": {},
   "source": [
    "## Classifier with autoencoder\n",
    "\n",
    "#### This notebook contains basic classifier with 3 different medical targets\n",
    "##### Target 1 : Mordibity classification\n",
    "##### Target 2 : Clinical procedures classification\n",
    "##### Target 3 : Destination classification"
   ]
  },
  {
   "cell_type": "code",
   "execution_count": 1,
   "metadata": {},
   "outputs": [
    {
     "name": "stderr",
     "output_type": "stream",
     "text": [
      "Using TensorFlow backend.\n"
     ]
    }
   ],
   "source": [
    "import pandas as pd\n",
    "import numpy as np\n",
    "import keras\n",
    "from keras.models import Model\n",
    "from keras.optimizers import RMSprop\n",
    "from keras.layers import Input,Dense,Flatten,Dropout,merge,Reshape,Conv2D,MaxPooling2D,UpSampling2D,Conv2DTranspose\n",
    "from keras.layers.normalization import BatchNormalization\n",
    "from keras.models import Model,Sequential\n",
    "from keras.optimizers import Adadelta, RMSprop,SGD,Adam\n",
    "from keras import regularizers\n",
    "from sklearn.model_selection import GridSearchCV, RandomizedSearchCV\n",
    "from sklearn.model_selection import train_test_split\n",
    "from keras.wrappers.scikit_learn import KerasClassifier\n",
    "from matplotlib import pyplot as plt\n",
    "plt.style.use('ggplot')"
   ]
  },
  {
   "cell_type": "markdown",
   "metadata": {},
   "source": [
    "#### Convolutional Autoencoder"
   ]
  },
  {
   "cell_type": "code",
   "execution_count": 2,
   "metadata": {},
   "outputs": [],
   "source": [
    "def encoder(inputs):\n",
    "    #encoder\n",
    "    conv1 = Conv2D(32, (3, 3), activation='relu', padding='same')(inputs)\n",
    "    conv1 = BatchNormalization()(conv1)\n",
    "    pool1 = MaxPooling2D(pool_size=(2, 2))(conv1)\n",
    "    conv2 = Conv2D(64, (3, 3), activation='relu', padding='same')(pool1)\n",
    "    conv2 = BatchNormalization()(conv2)\n",
    "    pool2 = MaxPooling2D(pool_size=(2, 2))(conv2)\n",
    "    conv3 = Conv2D(128, (3, 3), activation='relu', padding='same')(pool2)\n",
    "    conv3 = BatchNormalization()(conv3)\n",
    "    conv4 = Conv2D(256, (3, 3), activation='relu', padding='same')(conv3)\n",
    "    conv4 = BatchNormalization()(conv4)\n",
    "    return conv4\n",
    "\n",
    "def decoder(conv4):\n",
    "    #decoder\n",
    "    conv5 = Conv2D(128, (3, 3), activation='relu', padding='same')(conv4)\n",
    "    conv5 = BatchNormalization()(conv5)\n",
    "    conv6 = Conv2D(64, (3, 3), activation='relu', padding='same')(conv5)\n",
    "    conv6 = BatchNormalization()(conv6)\n",
    "    up1 = UpSampling2D((2,2))(conv6)\n",
    "    conv7 = Conv2D(32, (3, 3), activation='relu', padding='same')(up1)\n",
    "    conv7 = BatchNormalization()(conv7)\n",
    "    up2 = UpSampling2D((2,2))(conv7)\n",
    "    decoded = Conv2D(1, (3, 3), activation='sigmoid', padding='same')(up2)\n",
    "    return decoded"
   ]
  },
  {
   "cell_type": "code",
   "execution_count": 3,
   "metadata": {},
   "outputs": [],
   "source": [
    "def create_classifier(inputs, autoencoder, layer=10, decay_rate=0.3, dropout_rate=0.5):\n",
    "    \n",
    "    encode = encoder(inputs)\n",
    "    out = Flatten()(encode)\n",
    "    \n",
    "    neurons = np.prod(autoencoder.layers[layer].output_shape[1:])\n",
    "    \n",
    "    nodes = []\n",
    "    while True:\n",
    "        neurons = int(neurons * decay_rate)\n",
    "        if neurons <= num_classes*2:\n",
    "            break\n",
    "        else:\n",
    "            nodes.append(neurons)\n",
    "    \n",
    "    for i in range(len(nodes)):\n",
    "        out = Dense(nodes[i], activation='relu')(out)\n",
    "        out = Dropout(dropout_rate)(out)\n",
    "    \n",
    "    out = Dense(num_classes, activation='softmax')(out)\n",
    "    \n",
    "    return Model(inputs, out)"
   ]
  },
  {
   "cell_type": "code",
   "execution_count": 4,
   "metadata": {},
   "outputs": [],
   "source": [
    "es = keras.callbacks.EarlyStopping(monitor='val_loss', mode='min', verbose=1, patience=5)\n",
    "\n",
    "batch_size = 128\n",
    "epochs = 1000"
   ]
  },
  {
   "cell_type": "markdown",
   "metadata": {},
   "source": [
    "## Target 1 : Classify major clinical category\n",
    "### Read the data and split into 3 datasets\n",
    "##### 10,000 inpatients records with 12290 clinical binarized descriptors"
   ]
  },
  {
   "cell_type": "code",
   "execution_count": 5,
   "metadata": {},
   "outputs": [],
   "source": [
    "x1 = pd.read_csv(\"data/y1/BPPR-KMM_x1_x2_x3_x4_x5_x7_x83_x9_x10_Y1-2008.txt\", sep=\",\", header=None)\n",
    "y1 = pd.read_csv(\"data/y1/labels_Y1-KMM_x1_x2_x3_x4_x5_x7_x83_x9_x10_Y1-2008.txt\", sep=\",\", header=None)"
   ]
  },
  {
   "cell_type": "code",
   "execution_count": 6,
   "metadata": {},
   "outputs": [
    {
     "name": "stdout",
     "output_type": "stream",
     "text": [
      "X1 contains 12290 columns for 10000 inpatients\n",
      "Y1 contains 20 categories\n"
     ]
    }
   ],
   "source": [
    "print(\"X1 contains {} columns for {} inpatients\".format(x1.shape[1], x1.shape[0]))\n",
    "print(\"Y1 contains {} categories\".format(y1.shape[1]))"
   ]
  },
  {
   "cell_type": "code",
   "execution_count": 7,
   "metadata": {},
   "outputs": [
    {
     "data": {
      "text/plain": [
       "(10000, 108, 108, 1)"
      ]
     },
     "execution_count": 7,
     "metadata": {},
     "output_type": "execute_result"
    }
   ],
   "source": [
    "x, y = 108, 108\n",
    "inputs = Input(shape = (x, y, 1))\n",
    "x1 = x1.values[:, :x*y].reshape(-1, x, y, 1)\n",
    "x1.shape"
   ]
  },
  {
   "cell_type": "code",
   "execution_count": 16,
   "metadata": {},
   "outputs": [
    {
     "name": "stdout",
     "output_type": "stream",
     "text": [
      "Model: \"model_2\"\n",
      "_________________________________________________________________\n",
      "Layer (type)                 Output Shape              Param #   \n",
      "=================================================================\n",
      "input_1 (InputLayer)         (None, 108, 108, 1)       0         \n",
      "_________________________________________________________________\n",
      "conv2d_9 (Conv2D)            (None, 108, 108, 32)      320       \n",
      "_________________________________________________________________\n",
      "batch_normalization_8 (Batch (None, 108, 108, 32)      128       \n",
      "_________________________________________________________________\n",
      "max_pooling2d_3 (MaxPooling2 (None, 54, 54, 32)        0         \n",
      "_________________________________________________________________\n",
      "conv2d_10 (Conv2D)           (None, 54, 54, 64)        18496     \n",
      "_________________________________________________________________\n",
      "batch_normalization_9 (Batch (None, 54, 54, 64)        256       \n",
      "_________________________________________________________________\n",
      "max_pooling2d_4 (MaxPooling2 (None, 27, 27, 64)        0         \n",
      "_________________________________________________________________\n",
      "conv2d_11 (Conv2D)           (None, 27, 27, 128)       73856     \n",
      "_________________________________________________________________\n",
      "batch_normalization_10 (Batc (None, 27, 27, 128)       512       \n",
      "_________________________________________________________________\n",
      "conv2d_12 (Conv2D)           (None, 27, 27, 256)       295168    \n",
      "_________________________________________________________________\n",
      "batch_normalization_11 (Batc (None, 27, 27, 256)       1024      \n",
      "_________________________________________________________________\n",
      "conv2d_13 (Conv2D)           (None, 27, 27, 128)       295040    \n",
      "_________________________________________________________________\n",
      "batch_normalization_12 (Batc (None, 27, 27, 128)       512       \n",
      "_________________________________________________________________\n",
      "conv2d_14 (Conv2D)           (None, 27, 27, 64)        73792     \n",
      "_________________________________________________________________\n",
      "batch_normalization_13 (Batc (None, 27, 27, 64)        256       \n",
      "_________________________________________________________________\n",
      "up_sampling2d_3 (UpSampling2 (None, 54, 54, 64)        0         \n",
      "_________________________________________________________________\n",
      "conv2d_15 (Conv2D)           (None, 54, 54, 32)        18464     \n",
      "_________________________________________________________________\n",
      "batch_normalization_14 (Batc (None, 54, 54, 32)        128       \n",
      "_________________________________________________________________\n",
      "up_sampling2d_4 (UpSampling2 (None, 108, 108, 32)      0         \n",
      "_________________________________________________________________\n",
      "conv2d_16 (Conv2D)           (None, 108, 108, 1)       289       \n",
      "=================================================================\n",
      "Total params: 778,241\n",
      "Trainable params: 776,833\n",
      "Non-trainable params: 1,408\n",
      "_________________________________________________________________\n"
     ]
    }
   ],
   "source": [
    "autoencoder = Model(inputs, decoder(encoder(inputs)))\n",
    "autoencoder.compile(loss='binary_crossentropy', optimizer = RMSprop())\n",
    "autoencoder.summary()"
   ]
  },
  {
   "cell_type": "code",
   "execution_count": 10,
   "metadata": {},
   "outputs": [],
   "source": [
    "train_X,valid_X,train_ground,valid_ground = train_test_split(x1, x1, test_size=0.2)"
   ]
  },
  {
   "cell_type": "code",
   "execution_count": null,
   "metadata": {},
   "outputs": [
    {
     "name": "stdout",
     "output_type": "stream",
     "text": [
      "Train on 8000 samples, validate on 2000 samples\n",
      "Epoch 1/1000\n",
      "8000/8000 [==============================] - 260s 32ms/step - loss: 0.5417 - val_loss: 0.4626\n",
      "Epoch 2/1000\n",
      "8000/8000 [==============================] - 256s 32ms/step - loss: 0.1664 - val_loss: 0.0897\n",
      "Epoch 3/1000\n",
      "8000/8000 [==============================] - 256s 32ms/step - loss: 0.0270 - val_loss: 0.0141\n",
      "Epoch 4/1000\n",
      "8000/8000 [==============================] - 256s 32ms/step - loss: 0.0050 - val_loss: 0.0118\n",
      "Epoch 5/1000\n",
      "8000/8000 [==============================] - 255s 32ms/step - loss: 3.7304e-04 - val_loss: 2.2708e-04\n",
      "Epoch 11/1000\n",
      "8000/8000 [==============================] - 256s 32ms/step - loss: 2.0118e-04 - val_loss: 1.0094e-04\n",
      "Epoch 12/1000\n",
      "8000/8000 [==============================] - 256s 32ms/step - loss: 1.0327e-04 - val_loss: 4.9627e-05\n",
      "Epoch 13/1000\n",
      "8000/8000 [==============================] - 257s 32ms/step - loss: 1.2017e-04 - val_loss: 3.6098e-05\n",
      "Epoch 14/1000\n",
      "8000/8000 [==============================] - 255s 32ms/step - loss: 9.6094e-05 - val_loss: 5.6208e-05\n",
      "Epoch 15/1000\n",
      "8000/8000 [==============================] - 256s 32ms/step - loss: 1.9705e-04 - val_loss: 9.1535e-05\n",
      "Epoch 16/1000\n",
      "8000/8000 [==============================] - 258s 32ms/step - loss: 6.3957e-05 - val_loss: 3.9283e-04\n",
      "Epoch 17/1000\n",
      "8000/8000 [==============================] - 255s 32ms/step - loss: 5.3134e-05 - val_loss: 2.0780e-05\n",
      "Epoch 18/1000\n",
      "6912/8000 [========================>.....] - ETA: 33s - loss: 1.0798e-04"
     ]
    }
   ],
   "source": [
    "checkpoint = keras.callbacks.ModelCheckpoint('models/autoencoder_Y1_best_checkpoint.h5', monitor='val_loss', mode='min', save_best_only=True)\n",
    "\n",
    "autoencoder_train = autoencoder.fit(train_X, train_ground, \n",
    "                                    batch_size=batch_size,\n",
    "                                    epochs=epochs,\n",
    "                                    callbacks=[es, checkpoint],\n",
    "                                    validation_data=(valid_X, valid_ground))"
   ]
  },
  {
   "cell_type": "code",
   "execution_count": 8,
   "metadata": {},
   "outputs": [
    {
     "name": "stdout",
     "output_type": "stream",
     "text": [
      "WARNING:tensorflow:From /usr/local/lib/python3.5/dist-packages/keras/backend/tensorflow_backend.py:4070: The name tf.nn.max_pool is deprecated. Please use tf.nn.max_pool2d instead.\n",
      "\n",
      "WARNING:tensorflow:From /usr/local/lib/python3.5/dist-packages/tensorflow/python/ops/nn_impl.py:180: add_dispatch_support.<locals>.wrapper (from tensorflow.python.ops.array_ops) is deprecated and will be removed in a future version.\n",
      "Instructions for updating:\n",
      "Use tf.where in 2.0, which has the same broadcast rule as np.where\n",
      "WARNING:tensorflow:From /usr/local/lib/python3.5/dist-packages/keras/backend/tensorflow_backend.py:422: The name tf.global_variables is deprecated. Please use tf.compat.v1.global_variables instead.\n",
      "\n"
     ]
    }
   ],
   "source": [
    "autoencoder = keras.models.load_model('models/autoencoder_Y1_best_checkpoint.h5')"
   ]
  },
  {
   "cell_type": "code",
   "execution_count": 6,
   "metadata": {},
   "outputs": [],
   "source": [
    "autoencoder.save_weights('models/autoencoder_Y1_weights.h5')"
   ]
  },
  {
   "cell_type": "code",
   "execution_count": 9,
   "metadata": {},
   "outputs": [],
   "source": [
    "x_train, x_test, y_train, y_test = train_test_split(x1, y1.values, test_size=0.2)\n",
    "x_test, x_valid, y_test, y_valid = train_test_split(x_test, y_test, test_size=0.5)\n",
    "input_shape = (x_train.shape[1],)\n",
    "num_classes = y_train.shape[1]"
   ]
  },
  {
   "cell_type": "code",
   "execution_count": 13,
   "metadata": {},
   "outputs": [
    {
     "name": "stdout",
     "output_type": "stream",
     "text": [
      "Train      :: 8000 inpatients\n",
      "Test       :: 1000 inpatients\n",
      "validation :: 1000 inpatients\n"
     ]
    }
   ],
   "source": [
    "print(\"Train      :: {} inpatients\".format(x_train.shape[0]))\n",
    "print(\"Test       :: {} inpatients\".format(x_test.shape[0]))\n",
    "print(\"validation :: {} inpatients\".format(x_valid.shape[0]))"
   ]
  },
  {
   "cell_type": "markdown",
   "metadata": {},
   "source": [
    "#### Create a classifier with encoded pretrained weights and set them as not trainable"
   ]
  },
  {
   "cell_type": "code",
   "execution_count": 14,
   "metadata": {},
   "outputs": [
    {
     "name": "stdout",
     "output_type": "stream",
     "text": [
      "Model: \"model_1\"\n",
      "_________________________________________________________________\n",
      "Layer (type)                 Output Shape              Param #   \n",
      "=================================================================\n",
      "input_1 (InputLayer)         (None, 108, 108, 1)       0         \n",
      "_________________________________________________________________\n",
      "conv2d_1 (Conv2D)            (None, 108, 108, 32)      320       \n",
      "_________________________________________________________________\n",
      "batch_normalization_1 (Batch (None, 108, 108, 32)      128       \n",
      "_________________________________________________________________\n",
      "max_pooling2d_1 (MaxPooling2 (None, 54, 54, 32)        0         \n",
      "_________________________________________________________________\n",
      "conv2d_2 (Conv2D)            (None, 54, 54, 64)        18496     \n",
      "_________________________________________________________________\n",
      "batch_normalization_2 (Batch (None, 54, 54, 64)        256       \n",
      "_________________________________________________________________\n",
      "max_pooling2d_2 (MaxPooling2 (None, 27, 27, 64)        0         \n",
      "_________________________________________________________________\n",
      "conv2d_3 (Conv2D)            (None, 27, 27, 128)       73856     \n",
      "_________________________________________________________________\n",
      "batch_normalization_3 (Batch (None, 27, 27, 128)       512       \n",
      "_________________________________________________________________\n",
      "conv2d_4 (Conv2D)            (None, 27, 27, 256)       295168    \n",
      "_________________________________________________________________\n",
      "batch_normalization_4 (Batch (None, 27, 27, 256)       1024      \n",
      "_________________________________________________________________\n",
      "flatten_1 (Flatten)          (None, 186624)            0         \n",
      "_________________________________________________________________\n",
      "dense_1 (Dense)              (None, 55987)             1044857387\n",
      "_________________________________________________________________\n",
      "dropout_1 (Dropout)          (None, 55987)             0         \n",
      "_________________________________________________________________\n",
      "dense_2 (Dense)              (None, 16796)             940374448 \n",
      "_________________________________________________________________\n",
      "dropout_2 (Dropout)          (None, 16796)             0         \n",
      "_________________________________________________________________\n",
      "dense_3 (Dense)              (None, 5038)              84623286  \n",
      "_________________________________________________________________\n",
      "dropout_3 (Dropout)          (None, 5038)              0         \n",
      "_________________________________________________________________\n",
      "dense_4 (Dense)              (None, 1511)              7613929   \n",
      "_________________________________________________________________\n",
      "dropout_4 (Dropout)          (None, 1511)              0         \n",
      "_________________________________________________________________\n",
      "dense_5 (Dense)              (None, 453)               684936    \n",
      "_________________________________________________________________\n",
      "dropout_5 (Dropout)          (None, 453)               0         \n",
      "_________________________________________________________________\n",
      "dense_6 (Dense)              (None, 135)               61290     \n",
      "_________________________________________________________________\n",
      "dropout_6 (Dropout)          (None, 135)               0         \n",
      "_________________________________________________________________\n",
      "dense_7 (Dense)              (None, 20)                2720      \n",
      "=================================================================\n",
      "Total params: 11,482,324,244\n",
      "Trainable params: 11,482,323,284\n",
      "Non-trainable params: 960\n",
      "_________________________________________________________________\n"
     ]
    }
   ],
   "source": [
    "enco_layers = 10\n",
    "classifier = create_classifier(inputs, autoencoder, enco_layers)\n",
    "classifier.compile(loss=keras.losses.categorical_crossentropy, optimizer=keras.optimizers.Adam(),metrics=['accuracy'])\n",
    "classifier.summary()"
   ]
  },
  {
   "cell_type": "code",
   "execution_count": 11,
   "metadata": {},
   "outputs": [
    {
     "name": "stdout",
     "output_type": "stream",
     "text": [
      "Model: \"model_2\"\n",
      "_________________________________________________________________\n",
      "Layer (type)                 Output Shape              Param #   \n",
      "=================================================================\n",
      "input_1 (InputLayer)         (None, 108, 108, 1)       0         \n",
      "_________________________________________________________________\n",
      "conv2d_5 (Conv2D)            (None, 108, 108, 32)      320       \n",
      "_________________________________________________________________\n",
      "batch_normalization_5 (Batch (None, 108, 108, 32)      128       \n",
      "_________________________________________________________________\n",
      "max_pooling2d_3 (MaxPooling2 (None, 54, 54, 32)        0         \n",
      "_________________________________________________________________\n",
      "conv2d_6 (Conv2D)            (None, 54, 54, 64)        18496     \n",
      "_________________________________________________________________\n",
      "batch_normalization_6 (Batch (None, 54, 54, 64)        256       \n",
      "_________________________________________________________________\n",
      "max_pooling2d_4 (MaxPooling2 (None, 27, 27, 64)        0         \n",
      "_________________________________________________________________\n",
      "conv2d_7 (Conv2D)            (None, 27, 27, 128)       73856     \n",
      "_________________________________________________________________\n",
      "batch_normalization_7 (Batch (None, 27, 27, 128)       512       \n",
      "_________________________________________________________________\n",
      "conv2d_8 (Conv2D)            (None, 27, 27, 256)       295168    \n",
      "_________________________________________________________________\n",
      "batch_normalization_8 (Batch (None, 27, 27, 256)       1024      \n",
      "_________________________________________________________________\n",
      "flatten_2 (Flatten)          (None, 186624)            0         \n",
      "_________________________________________________________________\n",
      "dense_8 (Dense)              (None, 55987)             1044857387\n",
      "_________________________________________________________________\n",
      "dropout_7 (Dropout)          (None, 55987)             0         \n",
      "_________________________________________________________________\n",
      "dense_9 (Dense)              (None, 16796)             940374448 \n",
      "_________________________________________________________________\n",
      "dropout_8 (Dropout)          (None, 16796)             0         \n",
      "_________________________________________________________________\n",
      "dense_10 (Dense)             (None, 5038)              84623286  \n",
      "_________________________________________________________________\n",
      "dropout_9 (Dropout)          (None, 5038)              0         \n",
      "_________________________________________________________________\n",
      "dense_11 (Dense)             (None, 1511)              7613929   \n",
      "_________________________________________________________________\n",
      "dropout_10 (Dropout)         (None, 1511)              0         \n",
      "_________________________________________________________________\n",
      "dense_12 (Dense)             (None, 453)               684936    \n",
      "_________________________________________________________________\n",
      "dropout_11 (Dropout)         (None, 453)               0         \n",
      "_________________________________________________________________\n",
      "dense_13 (Dense)             (None, 135)               61290     \n",
      "_________________________________________________________________\n",
      "dropout_12 (Dropout)         (None, 135)               0         \n",
      "_________________________________________________________________\n",
      "dense_14 (Dense)             (None, 20)                2720      \n",
      "=================================================================\n",
      "Total params: 11,482,324,244\n",
      "Trainable params: 11,481,934,484\n",
      "Non-trainable params: 389,760\n",
      "_________________________________________________________________\n"
     ]
    }
   ],
   "source": [
    "enco_layers = 10\n",
    "classifier = create_classifier(inputs, autoencoder, enco_layers)\n",
    "\n",
    "for l1,l2 in zip(classifier.layers[:enco_layers+1],autoencoder.layers[:enco_layers+1]):\n",
    "    l1.set_weights(l2.get_weights())\n",
    "    l1.trainable = False\n",
    "\n",
    "classifier.compile(loss=keras.losses.categorical_crossentropy, optimizer=keras.optimizers.Adam(),metrics=['accuracy'])\n",
    "classifier.summary()"
   ]
  },
  {
   "cell_type": "code",
   "execution_count": null,
   "metadata": {},
   "outputs": [],
   "source": [
    "1"
   ]
  },
  {
   "cell_type": "code",
   "execution_count": null,
   "metadata": {},
   "outputs": [],
   "source": [
    "checkpoint = keras.callbacks.ModelCheckpoint('models/autoencoder_classifier_Y1_best_checkpoint.h5', monitor='val_loss', mode='min', save_best_only=True)\n",
    "\n",
    "history = classifier.fit(x_train, y_train, \n",
    "                         batch_size=batch_size,\n",
    "                         epochs=epochs,\n",
    "                         callbacks=[es, checkpoint],\n",
    "                         validation_data=(x_test, y_test))"
   ]
  },
  {
   "cell_type": "code",
   "execution_count": null,
   "metadata": {},
   "outputs": [],
   "source": [
    "for layer in classifier.layers[0:enco_layers+1]:\n",
    "    layer.trainable = True\n",
    "    \n",
    "classifier.compile(loss=keras.losses.categorical_crossentropy, optimizer=keras.optimizers.Adam(),metrics=['accuracy'])"
   ]
  },
  {
   "cell_type": "code",
   "execution_count": null,
   "metadata": {},
   "outputs": [],
   "source": [
    "checkpoint = keras.callbacks.ModelCheckpoint('models/autoencoder_classifier_Y1_best_checkpoint.h5', monitor='val_loss', mode='min', save_best_only=True)\n",
    "\n",
    "history = classifier.fit(x_train, y_train, \n",
    "                         batch_size=batch_size,\n",
    "                         epochs=epochs,\n",
    "                         callbacks=[es, checkpoint],\n",
    "                         validation_data=(x_test, y_test))"
   ]
  },
  {
   "cell_type": "code",
   "execution_count": null,
   "metadata": {},
   "outputs": [],
   "source": [
    "plt.figure(figsize=(15,5))\n",
    "plt.subplot(1, 2, 1)\n",
    "plt.plot(history.history['accuracy'])\n",
    "plt.plot(history.history['val_accuracy'])\n",
    "plt.title('model accuracy')\n",
    "plt.ylabel('accuracy')\n",
    "plt.xlabel('epoch')\n",
    "plt.legend(['training', 'validation'], loc='best')\n",
    "\n",
    "plt.subplot(1, 2, 2)\n",
    "plt.plot(history.history['loss'])\n",
    "plt.plot(history.history['val_loss'])\n",
    "plt.title('model loss')\n",
    "plt.ylabel('loss')\n",
    "plt.xlabel('epoch')\n",
    "plt.legend(['training', 'validation'], loc='best')\n",
    "plt.show()"
   ]
  },
  {
   "cell_type": "code",
   "execution_count": null,
   "metadata": {},
   "outputs": [],
   "source": [
    "loss, accuracy = classifier.evaluate(x_valid, y_valid)\n",
    "print(\"Validation loss :: {}\".format(loss))\n",
    "print(\"Validation acc  :: {}\".format(accuracy))"
   ]
  },
  {
   "cell_type": "markdown",
   "metadata": {},
   "source": [
    "## Target 2 : Clinical procedures classification\n",
    "### Read the data and split into 3 datasets\n",
    "##### 10,000 inpatients records with 15384 clinical binarized descriptors"
   ]
  },
  {
   "cell_type": "code",
   "execution_count": 8,
   "metadata": {},
   "outputs": [],
   "source": [
    "x2 = pd.read_csv(\"data/y2/BPPR-pre-trained-2008.txt\", sep=\",\", header=None)\n",
    "y2 = pd.read_csv(\"data/y2/labels_Y2-pre-trained-2008.txt\", sep=\",\", header=None)"
   ]
  },
  {
   "cell_type": "code",
   "execution_count": null,
   "metadata": {},
   "outputs": [],
   "source": [
    "print(\"X2 contains {} columns for {} inpatients\".format(x2.shape[1], x2.shape[0]))\n",
    "print(\"Y2 contains {} categories\".format(y2.shape[1]))"
   ]
  },
  {
   "cell_type": "code",
   "execution_count": 5,
   "metadata": {},
   "outputs": [],
   "source": [
    "x, y = 124, 124\n",
    "inputs = Input(shape = (x, y, 1))"
   ]
  },
  {
   "cell_type": "code",
   "execution_count": 6,
   "metadata": {},
   "outputs": [
    {
     "name": "stdout",
     "output_type": "stream",
     "text": [
      "WARNING:tensorflow:From /usr/local/lib/python3.5/dist-packages/keras/backend/tensorflow_backend.py:4070: The name tf.nn.max_pool is deprecated. Please use tf.nn.max_pool2d instead.\n",
      "\n",
      "WARNING:tensorflow:From /usr/local/lib/python3.5/dist-packages/tensorflow/python/ops/nn_impl.py:180: add_dispatch_support.<locals>.wrapper (from tensorflow.python.ops.array_ops) is deprecated and will be removed in a future version.\n",
      "Instructions for updating:\n",
      "Use tf.where in 2.0, which has the same broadcast rule as np.where\n",
      "Model: \"model_1\"\n",
      "_________________________________________________________________\n",
      "Layer (type)                 Output Shape              Param #   \n",
      "=================================================================\n",
      "input_1 (InputLayer)         (None, 124, 124, 1)       0         \n",
      "_________________________________________________________________\n",
      "conv2d_1 (Conv2D)            (None, 124, 124, 32)      320       \n",
      "_________________________________________________________________\n",
      "batch_normalization_1 (Batch (None, 124, 124, 32)      128       \n",
      "_________________________________________________________________\n",
      "max_pooling2d_1 (MaxPooling2 (None, 62, 62, 32)        0         \n",
      "_________________________________________________________________\n",
      "conv2d_2 (Conv2D)            (None, 62, 62, 64)        18496     \n",
      "_________________________________________________________________\n",
      "batch_normalization_2 (Batch (None, 62, 62, 64)        256       \n",
      "_________________________________________________________________\n",
      "max_pooling2d_2 (MaxPooling2 (None, 31, 31, 64)        0         \n",
      "_________________________________________________________________\n",
      "conv2d_3 (Conv2D)            (None, 31, 31, 128)       73856     \n",
      "_________________________________________________________________\n",
      "batch_normalization_3 (Batch (None, 31, 31, 128)       512       \n",
      "_________________________________________________________________\n",
      "conv2d_4 (Conv2D)            (None, 31, 31, 256)       295168    \n",
      "_________________________________________________________________\n",
      "batch_normalization_4 (Batch (None, 31, 31, 256)       1024      \n",
      "_________________________________________________________________\n",
      "conv2d_5 (Conv2D)            (None, 31, 31, 128)       295040    \n",
      "_________________________________________________________________\n",
      "batch_normalization_5 (Batch (None, 31, 31, 128)       512       \n",
      "_________________________________________________________________\n",
      "conv2d_6 (Conv2D)            (None, 31, 31, 64)        73792     \n",
      "_________________________________________________________________\n",
      "batch_normalization_6 (Batch (None, 31, 31, 64)        256       \n",
      "_________________________________________________________________\n",
      "up_sampling2d_1 (UpSampling2 (None, 62, 62, 64)        0         \n",
      "_________________________________________________________________\n",
      "conv2d_7 (Conv2D)            (None, 62, 62, 32)        18464     \n",
      "_________________________________________________________________\n",
      "batch_normalization_7 (Batch (None, 62, 62, 32)        128       \n",
      "_________________________________________________________________\n",
      "up_sampling2d_2 (UpSampling2 (None, 124, 124, 32)      0         \n",
      "_________________________________________________________________\n",
      "conv2d_8 (Conv2D)            (None, 124, 124, 1)       289       \n",
      "=================================================================\n",
      "Total params: 778,241\n",
      "Trainable params: 776,833\n",
      "Non-trainable params: 1,408\n",
      "_________________________________________________________________\n"
     ]
    }
   ],
   "source": [
    "autoencoder = Model(inputs, decoder(encoder(inputs)))\n",
    "autoencoder.compile(loss='binary_crossentropy', optimizer = RMSprop())\n",
    "autoencoder.summary()"
   ]
  },
  {
   "cell_type": "code",
   "execution_count": 11,
   "metadata": {},
   "outputs": [
    {
     "data": {
      "text/plain": [
       "(10000, 124, 124, 1)"
      ]
     },
     "execution_count": 11,
     "metadata": {},
     "output_type": "execute_result"
    }
   ],
   "source": [
    "x2 = x2.values[:, :x*y].reshape(-1, x, y, 1)\n",
    "x2.shape"
   ]
  },
  {
   "cell_type": "code",
   "execution_count": null,
   "metadata": {},
   "outputs": [],
   "source": [
    "train_X,valid_X,train_ground,valid_ground = train_test_split(x2, x2, test_size=0.2)"
   ]
  },
  {
   "cell_type": "code",
   "execution_count": null,
   "metadata": {},
   "outputs": [],
   "source": [
    "checkpoint = keras.callbacks.ModelCheckpoint('models/autoencoder_Y2_best_checkpoint.h5', monitor='val_loss', mode='min', save_best_only=True)\n",
    "\n",
    "autoencoder_train = autoencoder.fit(train_X, train_ground, \n",
    "                                    batch_size=batch_size,\n",
    "                                    epochs=epochs,\n",
    "                                    callbacks=[es, checkpoint],\n",
    "                                    validation_data=(valid_X, valid_ground))"
   ]
  },
  {
   "cell_type": "code",
   "execution_count": null,
   "metadata": {},
   "outputs": [],
   "source": [
    "autoencoder.save_weights('models/autoencoder_y2_weights.h5')"
   ]
  },
  {
   "cell_type": "code",
   "execution_count": 12,
   "metadata": {},
   "outputs": [],
   "source": [
    "x_train, x_test, y_train, y_test = train_test_split(x2, y2.values, test_size=0.2)\n",
    "x_test, x_valid, y_test, y_valid = train_test_split(x_test, y_test, test_size=0.5)\n",
    "input_shape = (x_train.shape[1],)\n",
    "num_classes = y_train.shape[1]"
   ]
  },
  {
   "cell_type": "markdown",
   "metadata": {},
   "source": [
    "#### Create a classifier with encoded pretrained weights and set them as not trainable"
   ]
  },
  {
   "cell_type": "code",
   "execution_count": 14,
   "metadata": {},
   "outputs": [
    {
     "name": "stdout",
     "output_type": "stream",
     "text": [
      "Model: \"model_4\"\n",
      "_________________________________________________________________\n",
      "Layer (type)                 Output Shape              Param #   \n",
      "=================================================================\n",
      "input_1 (InputLayer)         (None, 124, 124, 1)       0         \n",
      "_________________________________________________________________\n",
      "conv2d_21 (Conv2D)           (None, 124, 124, 32)      320       \n",
      "_________________________________________________________________\n",
      "batch_normalization_20 (Batc (None, 124, 124, 32)      128       \n",
      "_________________________________________________________________\n",
      "max_pooling2d_9 (MaxPooling2 (None, 62, 62, 32)        0         \n",
      "_________________________________________________________________\n",
      "conv2d_22 (Conv2D)           (None, 62, 62, 64)        18496     \n",
      "_________________________________________________________________\n",
      "batch_normalization_21 (Batc (None, 62, 62, 64)        256       \n",
      "_________________________________________________________________\n",
      "max_pooling2d_10 (MaxPooling (None, 31, 31, 64)        0         \n",
      "_________________________________________________________________\n",
      "conv2d_23 (Conv2D)           (None, 31, 31, 128)       73856     \n",
      "_________________________________________________________________\n",
      "batch_normalization_22 (Batc (None, 31, 31, 128)       512       \n",
      "_________________________________________________________________\n",
      "conv2d_24 (Conv2D)           (None, 31, 31, 256)       295168    \n",
      "_________________________________________________________________\n",
      "batch_normalization_23 (Batc (None, 31, 31, 256)       1024      \n",
      "_________________________________________________________________\n",
      "flatten_4 (Flatten)          (None, 246016)            0         \n",
      "_________________________________________________________________\n",
      "dense_13 (Dense)             (None, 73804)             1815703866\n",
      "_________________________________________________________________\n",
      "dropout_11 (Dropout)         (None, 73804)             0         \n",
      "_________________________________________________________________\n",
      "dense_14 (Dense)             (None, 22141)             1634116505\n",
      "_________________________________________________________________\n",
      "dropout_12 (Dropout)         (None, 22141)             0         \n",
      "_________________________________________________________________\n",
      "dense_15 (Dense)             (None, 6642)              147067164 \n",
      "_________________________________________________________________\n",
      "dropout_13 (Dropout)         (None, 6642)              0         \n",
      "_________________________________________________________________\n",
      "dense_16 (Dense)             (None, 1992)              13232856  \n",
      "_________________________________________________________________\n",
      "dropout_14 (Dropout)         (None, 1992)              0         \n",
      "_________________________________________________________________\n",
      "dense_17 (Dense)             (None, 597)               1189821   \n",
      "_________________________________________________________________\n",
      "dropout_15 (Dropout)         (None, 597)               0         \n",
      "_________________________________________________________________\n",
      "dense_18 (Dense)             (None, 284)               169832    \n",
      "=================================================================\n",
      "Total params: 19,953,204,606\n",
      "Trainable params: 19,953,203,646\n",
      "Non-trainable params: 960\n",
      "_________________________________________________________________\n"
     ]
    }
   ],
   "source": [
    "enco_layers = 10\n",
    "classifier = create_classifier(inputs, autoencoder, enco_layers)\n",
    "\n",
    "#for l1,l2 in zip(classifier.layers[:enco_layers+1],autoencoder.layers[:enco_layers+1]):\n",
    "#    l1.set_weights(l2.get_weights())\n",
    "\n",
    "#for layer in classifier.layers[:enco_layers+1]:\n",
    "#    layer.trainable = False\n",
    "\n",
    "classifier.compile(loss=keras.losses.categorical_crossentropy, optimizer=keras.optimizers.Adam(),metrics=['accuracy'])\n",
    "classifier.summary()"
   ]
  },
  {
   "cell_type": "code",
   "execution_count": null,
   "metadata": {},
   "outputs": [],
   "source": [
    "checkpoint = keras.callbacks.ModelCheckpoint('models/autoencoder_classifier_Y2_best_checkpoint.h5', monitor='val_loss', mode='min', save_best_only=True)\n",
    "\n",
    "history = classifier.fit(x_train, y_train, \n",
    "                         batch_size=batch_size,\n",
    "                         epochs=epochs,\n",
    "                         callbacks=[es, checkpoint],\n",
    "                         validation_data=(x_test, y_test))"
   ]
  },
  {
   "cell_type": "code",
   "execution_count": null,
   "metadata": {},
   "outputs": [],
   "source": [
    "for layer in classifier.layers[0:enco_layers+1]:\n",
    "    layer.trainable = True\n",
    "    \n",
    "classifier.compile(loss=keras.losses.categorical_crossentropy, optimizer=keras.optimizers.Adam(),metrics=['accuracy'])"
   ]
  },
  {
   "cell_type": "code",
   "execution_count": null,
   "metadata": {},
   "outputs": [],
   "source": [
    "checkpoint = keras.callbacks.ModelCheckpoint('models/autoencoder_classifier_Y2_best_checkpoint.h5', monitor='val_loss', mode='min', save_best_only=True)\n",
    "\n",
    "history = classifier.fit(x_train, y_train, \n",
    "                         batch_size=batch_size,\n",
    "                         epochs=epochs,\n",
    "                         callbacks=[es, checkpoint],\n",
    "                         validation_data=(x_test, y_test))"
   ]
  },
  {
   "cell_type": "code",
   "execution_count": null,
   "metadata": {},
   "outputs": [],
   "source": [
    "plt.figure(figsize=(15,5))\n",
    "plt.subplot(1, 2, 1)\n",
    "plt.plot(history.history['accuracy'])\n",
    "plt.plot(history.history['val_accuracy'])\n",
    "plt.title('model accuracy')\n",
    "plt.ylabel('accuracy')\n",
    "plt.xlabel('epoch')\n",
    "plt.legend(['training', 'validation'], loc='best')\n",
    "\n",
    "plt.subplot(1, 2, 2)\n",
    "plt.plot(history.history['loss'])\n",
    "plt.plot(history.history['val_loss'])\n",
    "plt.title('model loss')\n",
    "plt.ylabel('loss')\n",
    "plt.xlabel('epoch')\n",
    "plt.legend(['training', 'validation'], loc='best')\n",
    "plt.show()"
   ]
  },
  {
   "cell_type": "code",
   "execution_count": null,
   "metadata": {},
   "outputs": [],
   "source": [
    "loss, accuracy = classifier.evaluate(x_valid, y_valid)\n",
    "print(\"Validation loss :: {}\".format(loss))\n",
    "print(\"Validation acc  :: {}\".format(accuracy))"
   ]
  },
  {
   "cell_type": "markdown",
   "metadata": {},
   "source": [
    "## Target 3 : Destination classification\n",
    "### Read the data and split into 3 datasets\n",
    "##### 10,000 inpatients records with 12285 clinical binarized descriptors"
   ]
  },
  {
   "cell_type": "code",
   "execution_count": 15,
   "metadata": {},
   "outputs": [],
   "source": [
    "x3 = pd.read_csv(\"data/y3/BPPR-KMM_x1_x2_x3_x4_x5_x7_x83_x9_x10_Y3-2008.txt\", sep=\",\", header=None)\n",
    "y3 = pd.read_csv(\"data/y3/labels_Y3-KMM_x1_x2_x3_x4_x5_x7_x83_x9_x10_Y3-2008.txt\", sep=\",\", header=None)"
   ]
  },
  {
   "cell_type": "code",
   "execution_count": 16,
   "metadata": {},
   "outputs": [
    {
     "name": "stdout",
     "output_type": "stream",
     "text": [
      "X3 contains 12285 columns for 10000 inpatients\n",
      "Y3 contains 5 categories\n"
     ]
    }
   ],
   "source": [
    "print(\"X3 contains {} columns for {} inpatients\".format(x3.shape[1], x3.shape[0]))\n",
    "print(\"Y3 contains {} categories\".format(y3.shape[1]))"
   ]
  },
  {
   "cell_type": "code",
   "execution_count": 17,
   "metadata": {},
   "outputs": [],
   "source": [
    "x, y = 108, 108\n",
    "inputs = Input(shape = (x, y, 1))"
   ]
  },
  {
   "cell_type": "code",
   "execution_count": 18,
   "metadata": {},
   "outputs": [
    {
     "name": "stdout",
     "output_type": "stream",
     "text": [
      "Model: \"model_5\"\n",
      "_________________________________________________________________\n",
      "Layer (type)                 Output Shape              Param #   \n",
      "=================================================================\n",
      "input_2 (InputLayer)         (None, 108, 108, 1)       0         \n",
      "_________________________________________________________________\n",
      "conv2d_25 (Conv2D)           (None, 108, 108, 32)      320       \n",
      "_________________________________________________________________\n",
      "batch_normalization_24 (Batc (None, 108, 108, 32)      128       \n",
      "_________________________________________________________________\n",
      "max_pooling2d_11 (MaxPooling (None, 54, 54, 32)        0         \n",
      "_________________________________________________________________\n",
      "conv2d_26 (Conv2D)           (None, 54, 54, 64)        18496     \n",
      "_________________________________________________________________\n",
      "batch_normalization_25 (Batc (None, 54, 54, 64)        256       \n",
      "_________________________________________________________________\n",
      "max_pooling2d_12 (MaxPooling (None, 27, 27, 64)        0         \n",
      "_________________________________________________________________\n",
      "conv2d_27 (Conv2D)           (None, 27, 27, 128)       73856     \n",
      "_________________________________________________________________\n",
      "batch_normalization_26 (Batc (None, 27, 27, 128)       512       \n",
      "_________________________________________________________________\n",
      "conv2d_28 (Conv2D)           (None, 27, 27, 256)       295168    \n",
      "_________________________________________________________________\n",
      "batch_normalization_27 (Batc (None, 27, 27, 256)       1024      \n",
      "_________________________________________________________________\n",
      "conv2d_29 (Conv2D)           (None, 27, 27, 128)       295040    \n",
      "_________________________________________________________________\n",
      "batch_normalization_28 (Batc (None, 27, 27, 128)       512       \n",
      "_________________________________________________________________\n",
      "conv2d_30 (Conv2D)           (None, 27, 27, 64)        73792     \n",
      "_________________________________________________________________\n",
      "batch_normalization_29 (Batc (None, 27, 27, 64)        256       \n",
      "_________________________________________________________________\n",
      "up_sampling2d_3 (UpSampling2 (None, 54, 54, 64)        0         \n",
      "_________________________________________________________________\n",
      "conv2d_31 (Conv2D)           (None, 54, 54, 32)        18464     \n",
      "_________________________________________________________________\n",
      "batch_normalization_30 (Batc (None, 54, 54, 32)        128       \n",
      "_________________________________________________________________\n",
      "up_sampling2d_4 (UpSampling2 (None, 108, 108, 32)      0         \n",
      "_________________________________________________________________\n",
      "conv2d_32 (Conv2D)           (None, 108, 108, 1)       289       \n",
      "=================================================================\n",
      "Total params: 778,241\n",
      "Trainable params: 776,833\n",
      "Non-trainable params: 1,408\n",
      "_________________________________________________________________\n"
     ]
    }
   ],
   "source": [
    "autoencoder = Model(inputs, decoder(encoder(inputs)))\n",
    "autoencoder.compile(loss='binary_crossentropy', optimizer = RMSprop())\n",
    "autoencoder.summary()"
   ]
  },
  {
   "cell_type": "code",
   "execution_count": 19,
   "metadata": {},
   "outputs": [
    {
     "data": {
      "text/plain": [
       "(10000, 108, 108, 1)"
      ]
     },
     "execution_count": 19,
     "metadata": {},
     "output_type": "execute_result"
    }
   ],
   "source": [
    "x3 = x3.values[:, :x*y].reshape(-1, x, y, 1)\n",
    "x3.shape"
   ]
  },
  {
   "cell_type": "code",
   "execution_count": null,
   "metadata": {},
   "outputs": [],
   "source": [
    "train_X,valid_X,train_ground,valid_ground = train_test_split(x3, x3, test_size=0.2)"
   ]
  },
  {
   "cell_type": "code",
   "execution_count": null,
   "metadata": {},
   "outputs": [],
   "source": [
    "checkpoint = keras.callbacks.ModelCheckpoint('models/autoencoder_Y3_best_checkpoint.h5', monitor='val_loss', mode='min', save_best_only=True)\n",
    "\n",
    "autoencoder_train = autoencoder.fit(train_X, train_ground, \n",
    "                                    batch_size=batch_size,\n",
    "                                    epochs=epochs,\n",
    "                                    callbacks=[es, checkpoint],\n",
    "                                    validation_data=(valid_X, valid_ground))"
   ]
  },
  {
   "cell_type": "code",
   "execution_count": null,
   "metadata": {},
   "outputs": [],
   "source": [
    "autoencoder.save_weights('models/autoencoder_y3_weights.h5')"
   ]
  },
  {
   "cell_type": "code",
   "execution_count": 20,
   "metadata": {},
   "outputs": [],
   "source": [
    "x_train, x_test, y_train, y_test = train_test_split(x3, y3.values, test_size=0.2)\n",
    "x_test, x_valid, y_test, y_valid = train_test_split(x_test, y_test, test_size=0.5)\n",
    "input_shape = (x_train.shape[1],)\n",
    "num_classes = y_train.shape[1]"
   ]
  },
  {
   "cell_type": "markdown",
   "metadata": {},
   "source": [
    "#### Create a classifier with encoded pretrained weights and set them as not trainable"
   ]
  },
  {
   "cell_type": "code",
   "execution_count": 22,
   "metadata": {},
   "outputs": [
    {
     "name": "stdout",
     "output_type": "stream",
     "text": [
      "Model: \"model_7\"\n",
      "_________________________________________________________________\n",
      "Layer (type)                 Output Shape              Param #   \n",
      "=================================================================\n",
      "input_2 (InputLayer)         (None, 108, 108, 1)       0         \n",
      "_________________________________________________________________\n",
      "conv2d_37 (Conv2D)           (None, 108, 108, 32)      320       \n",
      "_________________________________________________________________\n",
      "batch_normalization_35 (Batc (None, 108, 108, 32)      128       \n",
      "_________________________________________________________________\n",
      "max_pooling2d_15 (MaxPooling (None, 54, 54, 32)        0         \n",
      "_________________________________________________________________\n",
      "conv2d_38 (Conv2D)           (None, 54, 54, 64)        18496     \n",
      "_________________________________________________________________\n",
      "batch_normalization_36 (Batc (None, 54, 54, 64)        256       \n",
      "_________________________________________________________________\n",
      "max_pooling2d_16 (MaxPooling (None, 27, 27, 64)        0         \n",
      "_________________________________________________________________\n",
      "conv2d_39 (Conv2D)           (None, 27, 27, 128)       73856     \n",
      "_________________________________________________________________\n",
      "batch_normalization_37 (Batc (None, 27, 27, 128)       512       \n",
      "_________________________________________________________________\n",
      "conv2d_40 (Conv2D)           (None, 27, 27, 256)       295168    \n",
      "_________________________________________________________________\n",
      "batch_normalization_38 (Batc (None, 27, 27, 256)       1024      \n",
      "_________________________________________________________________\n",
      "flatten_6 (Flatten)          (None, 186624)            0         \n",
      "_________________________________________________________________\n",
      "dense_28 (Dense)             (None, 55987)             1044857387\n",
      "_________________________________________________________________\n",
      "dropout_24 (Dropout)         (None, 55987)             0         \n",
      "_________________________________________________________________\n",
      "dense_29 (Dense)             (None, 16796)             940374448 \n",
      "_________________________________________________________________\n",
      "dropout_25 (Dropout)         (None, 16796)             0         \n",
      "_________________________________________________________________\n",
      "dense_30 (Dense)             (None, 5038)              84623286  \n",
      "_________________________________________________________________\n",
      "dropout_26 (Dropout)         (None, 5038)              0         \n",
      "_________________________________________________________________\n",
      "dense_31 (Dense)             (None, 1511)              7613929   \n",
      "_________________________________________________________________\n",
      "dropout_27 (Dropout)         (None, 1511)              0         \n",
      "_________________________________________________________________\n",
      "dense_32 (Dense)             (None, 453)               684936    \n",
      "_________________________________________________________________\n",
      "dropout_28 (Dropout)         (None, 453)               0         \n",
      "_________________________________________________________________\n",
      "dense_33 (Dense)             (None, 135)               61290     \n",
      "_________________________________________________________________\n",
      "dropout_29 (Dropout)         (None, 135)               0         \n",
      "_________________________________________________________________\n",
      "dense_34 (Dense)             (None, 40)                5440      \n",
      "_________________________________________________________________\n",
      "dropout_30 (Dropout)         (None, 40)                0         \n",
      "_________________________________________________________________\n",
      "dense_35 (Dense)             (None, 12)                492       \n",
      "_________________________________________________________________\n",
      "dropout_31 (Dropout)         (None, 12)                0         \n",
      "_________________________________________________________________\n",
      "dense_36 (Dense)             (None, 5)                 65        \n",
      "=================================================================\n",
      "Total params: 11,482,327,521\n",
      "Trainable params: 11,482,326,561\n",
      "Non-trainable params: 960\n",
      "_________________________________________________________________\n"
     ]
    }
   ],
   "source": [
    "enco_layers = 10\n",
    "classifier = create_classifier(inputs, autoencoder, enco_layers)\n",
    "\n",
    "#for l1,l2 in zip(classifier.layers[:enco_layers+1],autoencoder.layers[:enco_layers+1]):\n",
    "#    l1.set_weights(l2.get_weights())\n",
    "\n",
    "#for layer in classifier.layers[:enco_layers+1]:\n",
    "#    layer.trainable = False\n",
    "\n",
    "classifier.compile(loss=keras.losses.categorical_crossentropy, optimizer=keras.optimizers.Adam(),metrics=['accuracy'])\n",
    "classifier.summary()"
   ]
  },
  {
   "cell_type": "code",
   "execution_count": null,
   "metadata": {},
   "outputs": [],
   "source": [
    "checkpoint = keras.callbacks.ModelCheckpoint('models/autoencoder_classifier_Y3_best_checkpoint.h5', monitor='val_loss', mode='min', save_best_only=True)\n",
    "\n",
    "history = classifier.fit(x_train, y_train, \n",
    "                         batch_size=batch_size,\n",
    "                         epochs=epochs,\n",
    "                         callbacks=[es, checkpoint],\n",
    "                         validation_data=(x_test, y_test))"
   ]
  },
  {
   "cell_type": "code",
   "execution_count": null,
   "metadata": {},
   "outputs": [],
   "source": [
    "for layer in classifier.layers[0:enco_layers+1]:\n",
    "    layer.trainable = True\n",
    "    \n",
    "classifier.compile(loss=keras.losses.categorical_crossentropy, optimizer=keras.optimizers.Adam(),metrics=['accuracy'])"
   ]
  },
  {
   "cell_type": "code",
   "execution_count": null,
   "metadata": {},
   "outputs": [],
   "source": [
    "checkpoint = keras.callbacks.ModelCheckpoint('models/autoencoder_classifier_Y3_best_checkpoint.h5', monitor='val_loss', mode='min', save_best_only=True)\n",
    "\n",
    "history = classifier.fit(x_train, y_train, \n",
    "                         batch_size=batch_size,\n",
    "                         epochs=epochs,\n",
    "                         callbacks=[es, checkpoint],\n",
    "                         validation_data=(x_test, y_test))"
   ]
  },
  {
   "cell_type": "code",
   "execution_count": null,
   "metadata": {},
   "outputs": [],
   "source": [
    "plt.figure(figsize=(15,5))\n",
    "plt.subplot(1, 2, 1)\n",
    "plt.plot(history.history['accuracy'])\n",
    "plt.plot(history.history['val_accuracy'])\n",
    "plt.title('model accuracy')\n",
    "plt.ylabel('accuracy')\n",
    "plt.xlabel('epoch')\n",
    "plt.legend(['training', 'validation'], loc='best')\n",
    "\n",
    "plt.subplot(1, 2, 2)\n",
    "plt.plot(history.history['loss'])\n",
    "plt.plot(history.history['val_loss'])\n",
    "plt.title('model loss')\n",
    "plt.ylabel('loss')\n",
    "plt.xlabel('epoch')\n",
    "plt.legend(['training', 'validation'], loc='best')\n",
    "plt.show()"
   ]
  },
  {
   "cell_type": "code",
   "execution_count": null,
   "metadata": {},
   "outputs": [],
   "source": [
    "loss, accuracy = classifier.evaluate(x_valid, y_valid)\n",
    "print(\"Validation loss :: {}\".format(loss))\n",
    "print(\"Validation acc  :: {}\".format(accuracy))"
   ]
  }
 ],
 "metadata": {
  "kernelspec": {
   "display_name": "Python 3",
   "language": "python",
   "name": "python3"
  },
  "language_info": {
   "codemirror_mode": {
    "name": "ipython",
    "version": 3
   },
   "file_extension": ".py",
   "mimetype": "text/x-python",
   "name": "python",
   "nbconvert_exporter": "python",
   "pygments_lexer": "ipython3",
   "version": "3.5.3"
  }
 },
 "nbformat": 4,
 "nbformat_minor": 4
}
